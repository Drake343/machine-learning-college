{
 "cells": [
  {
   "cell_type": "code",
   "execution_count": 1,
   "id": "1f1c981d",
   "metadata": {
    "_cell_guid": "b1076dfc-b9ad-4769-8c92-a6c4dae69d19",
    "_uuid": "8f2839f25d086af736a60e9eeb907d3b93b6e0e5",
    "execution": {
     "iopub.execute_input": "2022-04-19T11:36:55.306551Z",
     "iopub.status.busy": "2022-04-19T11:36:55.305787Z",
     "iopub.status.idle": "2022-04-19T11:36:56.584560Z",
     "shell.execute_reply": "2022-04-19T11:36:56.583635Z"
    },
    "papermill": {
     "duration": 1.301123,
     "end_time": "2022-04-19T11:36:56.587470",
     "exception": false,
     "start_time": "2022-04-19T11:36:55.286347",
     "status": "completed"
    },
    "tags": []
   },
   "outputs": [],
   "source": [
    "import numpy as np\n",
    "import pandas as pd\n",
    "from sklearn import linear_model"
   ]
  },
  {
   "cell_type": "code",
   "execution_count": 2,
   "id": "56af2361",
   "metadata": {
    "execution": {
     "iopub.execute_input": "2022-04-19T11:36:56.622128Z",
     "iopub.status.busy": "2022-04-19T11:36:56.621839Z",
     "iopub.status.idle": "2022-04-19T11:36:56.651533Z",
     "shell.execute_reply": "2022-04-19T11:36:56.650659Z"
    },
    "papermill": {
     "duration": 0.049943,
     "end_time": "2022-04-19T11:36:56.654518",
     "exception": false,
     "start_time": "2022-04-19T11:36:56.604575",
     "status": "completed"
    },
    "tags": []
   },
   "outputs": [
    {
     "data": {
      "text/html": [
       "<div>\n",
       "<style scoped>\n",
       "    .dataframe tbody tr th:only-of-type {\n",
       "        vertical-align: middle;\n",
       "    }\n",
       "\n",
       "    .dataframe tbody tr th {\n",
       "        vertical-align: top;\n",
       "    }\n",
       "\n",
       "    .dataframe thead th {\n",
       "        text-align: right;\n",
       "    }\n",
       "</style>\n",
       "<table border=\"1\" class=\"dataframe\">\n",
       "  <thead>\n",
       "    <tr style=\"text-align: right;\">\n",
       "      <th></th>\n",
       "      <th>area</th>\n",
       "      <th>price</th>\n",
       "    </tr>\n",
       "  </thead>\n",
       "  <tbody>\n",
       "    <tr>\n",
       "      <th>0</th>\n",
       "      <td>2600</td>\n",
       "      <td>550000</td>\n",
       "    </tr>\n",
       "    <tr>\n",
       "      <th>1</th>\n",
       "      <td>3000</td>\n",
       "      <td>565000</td>\n",
       "    </tr>\n",
       "    <tr>\n",
       "      <th>2</th>\n",
       "      <td>3200</td>\n",
       "      <td>610000</td>\n",
       "    </tr>\n",
       "    <tr>\n",
       "      <th>3</th>\n",
       "      <td>3600</td>\n",
       "      <td>680000</td>\n",
       "    </tr>\n",
       "    <tr>\n",
       "      <th>4</th>\n",
       "      <td>4000</td>\n",
       "      <td>725000</td>\n",
       "    </tr>\n",
       "  </tbody>\n",
       "</table>\n",
       "</div>"
      ],
      "text/plain": [
       "   area   price\n",
       "0  2600  550000\n",
       "1  3000  565000\n",
       "2  3200  610000\n",
       "3  3600  680000\n",
       "4  4000  725000"
      ]
     },
     "execution_count": 2,
     "metadata": {},
     "output_type": "execute_result"
    }
   ],
   "source": [
    "df = pd.read_csv('../input/home-prices/homeprices.csv')\n",
    "df"
   ]
  },
  {
   "cell_type": "code",
   "execution_count": 3,
   "id": "1d177dd9",
   "metadata": {
    "execution": {
     "iopub.execute_input": "2022-04-19T11:36:56.690882Z",
     "iopub.status.busy": "2022-04-19T11:36:56.690432Z",
     "iopub.status.idle": "2022-04-19T11:36:56.726221Z",
     "shell.execute_reply": "2022-04-19T11:36:56.725348Z"
    },
    "papermill": {
     "duration": 0.056752,
     "end_time": "2022-04-19T11:36:56.728475",
     "exception": false,
     "start_time": "2022-04-19T11:36:56.671723",
     "status": "completed"
    },
    "tags": []
   },
   "outputs": [
    {
     "data": {
      "text/plain": [
       "LinearRegression()"
      ]
     },
     "execution_count": 3,
     "metadata": {},
     "output_type": "execute_result"
    }
   ],
   "source": [
    "model = linear_model.LinearRegression()\n",
    "model.fit(df[[\"area\"]],df.price)"
   ]
  },
  {
   "cell_type": "code",
   "execution_count": 4,
   "id": "f5a3b408",
   "metadata": {
    "execution": {
     "iopub.execute_input": "2022-04-19T11:36:56.768192Z",
     "iopub.status.busy": "2022-04-19T11:36:56.767754Z",
     "iopub.status.idle": "2022-04-19T11:36:56.774606Z",
     "shell.execute_reply": "2022-04-19T11:36:56.773567Z"
    },
    "papermill": {
     "duration": 0.028074,
     "end_time": "2022-04-19T11:36:56.776754",
     "exception": false,
     "start_time": "2022-04-19T11:36:56.748680",
     "status": "completed"
    },
    "tags": []
   },
   "outputs": [
    {
     "data": {
      "text/plain": [
       "array([135.78767123])"
      ]
     },
     "execution_count": 4,
     "metadata": {},
     "output_type": "execute_result"
    }
   ],
   "source": [
    "model.coef_"
   ]
  },
  {
   "cell_type": "code",
   "execution_count": 5,
   "id": "405087b2",
   "metadata": {
    "execution": {
     "iopub.execute_input": "2022-04-19T11:36:56.813614Z",
     "iopub.status.busy": "2022-04-19T11:36:56.813113Z",
     "iopub.status.idle": "2022-04-19T11:36:56.818314Z",
     "shell.execute_reply": "2022-04-19T11:36:56.817369Z"
    },
    "papermill": {
     "duration": 0.025814,
     "end_time": "2022-04-19T11:36:56.820309",
     "exception": false,
     "start_time": "2022-04-19T11:36:56.794495",
     "status": "completed"
    },
    "tags": []
   },
   "outputs": [
    {
     "data": {
      "text/plain": [
       "180616.43835616432"
      ]
     },
     "execution_count": 5,
     "metadata": {},
     "output_type": "execute_result"
    }
   ],
   "source": [
    "model.intercept_"
   ]
  },
  {
   "cell_type": "code",
   "execution_count": 6,
   "id": "34474b16",
   "metadata": {
    "execution": {
     "iopub.execute_input": "2022-04-19T11:36:56.857884Z",
     "iopub.status.busy": "2022-04-19T11:36:56.857409Z",
     "iopub.status.idle": "2022-04-19T11:36:56.868136Z",
     "shell.execute_reply": "2022-04-19T11:36:56.866780Z"
    },
    "papermill": {
     "duration": 0.032231,
     "end_time": "2022-04-19T11:36:56.870441",
     "exception": false,
     "start_time": "2022-04-19T11:36:56.838210",
     "status": "completed"
    },
    "tags": []
   },
   "outputs": [
    {
     "name": "stderr",
     "output_type": "stream",
     "text": [
      "/opt/conda/lib/python3.7/site-packages/sklearn/base.py:451: UserWarning: X does not have valid feature names, but LinearRegression was fitted with feature names\n",
      "  \"X does not have valid feature names, but\"\n"
     ]
    },
    {
     "data": {
      "text/plain": [
       "array([859554.79452055])"
      ]
     },
     "execution_count": 6,
     "metadata": {},
     "output_type": "execute_result"
    }
   ],
   "source": [
    "model.predict([[5000]])"
   ]
  },
  {
   "cell_type": "markdown",
   "id": "04c80f6d",
   "metadata": {
    "papermill": {
     "duration": 0.018578,
     "end_time": "2022-04-19T11:36:56.908032",
     "exception": false,
     "start_time": "2022-04-19T11:36:56.889454",
     "status": "completed"
    },
    "tags": []
   },
   "source": [
    "Save Model to file using pickle"
   ]
  },
  {
   "cell_type": "code",
   "execution_count": 7,
   "id": "a07acaa4",
   "metadata": {
    "execution": {
     "iopub.execute_input": "2022-04-19T11:36:56.947307Z",
     "iopub.status.busy": "2022-04-19T11:36:56.946996Z",
     "iopub.status.idle": "2022-04-19T11:36:56.950996Z",
     "shell.execute_reply": "2022-04-19T11:36:56.950132Z"
    },
    "papermill": {
     "duration": 0.026073,
     "end_time": "2022-04-19T11:36:56.953138",
     "exception": false,
     "start_time": "2022-04-19T11:36:56.927065",
     "status": "completed"
    },
    "tags": []
   },
   "outputs": [],
   "source": [
    "import pickle"
   ]
  },
  {
   "cell_type": "code",
   "execution_count": 8,
   "id": "949b54d8",
   "metadata": {
    "execution": {
     "iopub.execute_input": "2022-04-19T11:36:56.993718Z",
     "iopub.status.busy": "2022-04-19T11:36:56.992862Z",
     "iopub.status.idle": "2022-04-19T11:36:56.997917Z",
     "shell.execute_reply": "2022-04-19T11:36:56.997318Z"
    },
    "papermill": {
     "duration": 0.028102,
     "end_time": "2022-04-19T11:36:57.000029",
     "exception": false,
     "start_time": "2022-04-19T11:36:56.971927",
     "status": "completed"
    },
    "tags": []
   },
   "outputs": [],
   "source": [
    "with open(\"model_from_pickle\",'wb') as file:\n",
    "    pickle.dump(model,file)"
   ]
  },
  {
   "cell_type": "code",
   "execution_count": 9,
   "id": "2d57d095",
   "metadata": {
    "execution": {
     "iopub.execute_input": "2022-04-19T11:36:57.040280Z",
     "iopub.status.busy": "2022-04-19T11:36:57.039729Z",
     "iopub.status.idle": "2022-04-19T11:36:57.044330Z",
     "shell.execute_reply": "2022-04-19T11:36:57.043644Z"
    },
    "papermill": {
     "duration": 0.027229,
     "end_time": "2022-04-19T11:36:57.046302",
     "exception": false,
     "start_time": "2022-04-19T11:36:57.019073",
     "status": "completed"
    },
    "tags": []
   },
   "outputs": [],
   "source": [
    " #loading saved model\n",
    "with open(\"model_from_pickle\",'rb') as file:\n",
    "    mp = pickle.load(file)"
   ]
  },
  {
   "cell_type": "code",
   "execution_count": 10,
   "id": "2188a235",
   "metadata": {
    "execution": {
     "iopub.execute_input": "2022-04-19T11:36:57.085747Z",
     "iopub.status.busy": "2022-04-19T11:36:57.085143Z",
     "iopub.status.idle": "2022-04-19T11:36:57.092838Z",
     "shell.execute_reply": "2022-04-19T11:36:57.091845Z"
    },
    "papermill": {
     "duration": 0.029602,
     "end_time": "2022-04-19T11:36:57.094950",
     "exception": false,
     "start_time": "2022-04-19T11:36:57.065348",
     "status": "completed"
    },
    "tags": []
   },
   "outputs": [
    {
     "name": "stderr",
     "output_type": "stream",
     "text": [
      "/opt/conda/lib/python3.7/site-packages/sklearn/base.py:451: UserWarning: X does not have valid feature names, but LinearRegression was fitted with feature names\n",
      "  \"X does not have valid feature names, but\"\n"
     ]
    },
    {
     "data": {
      "text/plain": [
       "array([859554.79452055])"
      ]
     },
     "execution_count": 10,
     "metadata": {},
     "output_type": "execute_result"
    }
   ],
   "source": [
    "mp.predict([[5000]])"
   ]
  },
  {
   "cell_type": "markdown",
   "id": "84e45daf",
   "metadata": {
    "papermill": {
     "duration": 0.019201,
     "end_time": "2022-04-19T11:36:57.133641",
     "exception": false,
     "start_time": "2022-04-19T11:36:57.114440",
     "status": "completed"
    },
    "tags": []
   },
   "source": [
    "Save trained model using joblib"
   ]
  },
  {
   "cell_type": "code",
   "execution_count": 11,
   "id": "15cb30b4",
   "metadata": {
    "execution": {
     "iopub.execute_input": "2022-04-19T11:36:57.173763Z",
     "iopub.status.busy": "2022-04-19T11:36:57.173459Z",
     "iopub.status.idle": "2022-04-19T11:36:57.178044Z",
     "shell.execute_reply": "2022-04-19T11:36:57.177034Z"
    },
    "papermill": {
     "duration": 0.027147,
     "end_time": "2022-04-19T11:36:57.180189",
     "exception": false,
     "start_time": "2022-04-19T11:36:57.153042",
     "status": "completed"
    },
    "tags": []
   },
   "outputs": [],
   "source": [
    "from joblib import load,dump"
   ]
  },
  {
   "cell_type": "code",
   "execution_count": 12,
   "id": "7461de89",
   "metadata": {
    "execution": {
     "iopub.execute_input": "2022-04-19T11:36:57.221005Z",
     "iopub.status.busy": "2022-04-19T11:36:57.220708Z",
     "iopub.status.idle": "2022-04-19T11:36:57.229235Z",
     "shell.execute_reply": "2022-04-19T11:36:57.228101Z"
    },
    "papermill": {
     "duration": 0.032056,
     "end_time": "2022-04-19T11:36:57.231608",
     "exception": false,
     "start_time": "2022-04-19T11:36:57.199552",
     "status": "completed"
    },
    "tags": []
   },
   "outputs": [
    {
     "data": {
      "text/plain": [
       "['model_from_joblib']"
      ]
     },
     "execution_count": 12,
     "metadata": {},
     "output_type": "execute_result"
    }
   ],
   "source": [
    "dump(model,'model_from_joblib')"
   ]
  },
  {
   "cell_type": "code",
   "execution_count": 13,
   "id": "95714003",
   "metadata": {
    "execution": {
     "iopub.execute_input": "2022-04-19T11:36:57.275536Z",
     "iopub.status.busy": "2022-04-19T11:36:57.274842Z",
     "iopub.status.idle": "2022-04-19T11:36:57.279876Z",
     "shell.execute_reply": "2022-04-19T11:36:57.279239Z"
    },
    "papermill": {
     "duration": 0.028881,
     "end_time": "2022-04-19T11:36:57.281954",
     "exception": false,
     "start_time": "2022-04-19T11:36:57.253073",
     "status": "completed"
    },
    "tags": []
   },
   "outputs": [],
   "source": [
    "mj = load('model_from_joblib')"
   ]
  },
  {
   "cell_type": "code",
   "execution_count": 14,
   "id": "def32531",
   "metadata": {
    "execution": {
     "iopub.execute_input": "2022-04-19T11:36:57.322557Z",
     "iopub.status.busy": "2022-04-19T11:36:57.322279Z",
     "iopub.status.idle": "2022-04-19T11:36:57.329160Z",
     "shell.execute_reply": "2022-04-19T11:36:57.328287Z"
    },
    "papermill": {
     "duration": 0.030689,
     "end_time": "2022-04-19T11:36:57.332257",
     "exception": false,
     "start_time": "2022-04-19T11:36:57.301568",
     "status": "completed"
    },
    "tags": []
   },
   "outputs": [
    {
     "name": "stderr",
     "output_type": "stream",
     "text": [
      "/opt/conda/lib/python3.7/site-packages/sklearn/base.py:451: UserWarning: X does not have valid feature names, but LinearRegression was fitted with feature names\n",
      "  \"X does not have valid feature names, but\"\n"
     ]
    },
    {
     "data": {
      "text/plain": [
       "array([859554.79452055])"
      ]
     },
     "execution_count": 14,
     "metadata": {},
     "output_type": "execute_result"
    }
   ],
   "source": [
    "mj.predict([[5000]])"
   ]
  }
 ],
 "metadata": {
  "kernelspec": {
   "display_name": "Python 3",
   "language": "python",
   "name": "python3"
  },
  "language_info": {
   "codemirror_mode": {
    "name": "ipython",
    "version": 3
   },
   "file_extension": ".py",
   "mimetype": "text/x-python",
   "name": "python",
   "nbconvert_exporter": "python",
   "pygments_lexer": "ipython3",
   "version": "3.7.12"
  },
  "papermill": {
   "default_parameters": {},
   "duration": 13.145226,
   "end_time": "2022-04-19T11:36:58.073479",
   "environment_variables": {},
   "exception": null,
   "input_path": "__notebook__.ipynb",
   "output_path": "__notebook__.ipynb",
   "parameters": {},
   "start_time": "2022-04-19T11:36:44.928253",
   "version": "2.3.4"
  }
 },
 "nbformat": 4,
 "nbformat_minor": 5
}
