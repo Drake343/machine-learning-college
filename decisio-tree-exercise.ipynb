{
 "cells": [
  {
   "cell_type": "code",
   "execution_count": 1,
   "id": "898f9d3f",
   "metadata": {
    "_cell_guid": "b1076dfc-b9ad-4769-8c92-a6c4dae69d19",
    "_uuid": "8f2839f25d086af736a60e9eeb907d3b93b6e0e5",
    "execution": {
     "iopub.execute_input": "2022-04-21T08:13:26.256263Z",
     "iopub.status.busy": "2022-04-21T08:13:26.255315Z",
     "iopub.status.idle": "2022-04-21T08:13:26.265356Z",
     "shell.execute_reply": "2022-04-21T08:13:26.264699Z"
    },
    "papermill": {
     "duration": 0.030698,
     "end_time": "2022-04-21T08:13:26.267522",
     "exception": false,
     "start_time": "2022-04-21T08:13:26.236824",
     "status": "completed"
    },
    "tags": []
   },
   "outputs": [],
   "source": [
    "\n",
    "\n",
    "import numpy as np # linear algebra\n",
    "import pandas as pd # data processing, CSV file I/O (e.g. pd.read_csv)/working/)\n"
   ]
  },
  {
   "cell_type": "code",
   "execution_count": 2,
   "id": "ca8f6fa3",
   "metadata": {
    "execution": {
     "iopub.execute_input": "2022-04-21T08:13:26.301503Z",
     "iopub.status.busy": "2022-04-21T08:13:26.301190Z",
     "iopub.status.idle": "2022-04-21T08:13:26.344069Z",
     "shell.execute_reply": "2022-04-21T08:13:26.343125Z"
    },
    "papermill": {
     "duration": 0.063369,
     "end_time": "2022-04-21T08:13:26.347194",
     "exception": false,
     "start_time": "2022-04-21T08:13:26.283825",
     "status": "completed"
    },
    "tags": []
   },
   "outputs": [
    {
     "data": {
      "text/html": [
       "<div>\n",
       "<style scoped>\n",
       "    .dataframe tbody tr th:only-of-type {\n",
       "        vertical-align: middle;\n",
       "    }\n",
       "\n",
       "    .dataframe tbody tr th {\n",
       "        vertical-align: top;\n",
       "    }\n",
       "\n",
       "    .dataframe thead th {\n",
       "        text-align: right;\n",
       "    }\n",
       "</style>\n",
       "<table border=\"1\" class=\"dataframe\">\n",
       "  <thead>\n",
       "    <tr style=\"text-align: right;\">\n",
       "      <th></th>\n",
       "      <th>PassengerId</th>\n",
       "      <th>Survived</th>\n",
       "      <th>Pclass</th>\n",
       "      <th>Name</th>\n",
       "      <th>Sex</th>\n",
       "      <th>Age</th>\n",
       "      <th>SibSp</th>\n",
       "      <th>Parch</th>\n",
       "      <th>Ticket</th>\n",
       "      <th>Fare</th>\n",
       "      <th>Cabin</th>\n",
       "      <th>Embarked</th>\n",
       "    </tr>\n",
       "  </thead>\n",
       "  <tbody>\n",
       "    <tr>\n",
       "      <th>0</th>\n",
       "      <td>1</td>\n",
       "      <td>0</td>\n",
       "      <td>3</td>\n",
       "      <td>Braund, Mr. Owen Harris</td>\n",
       "      <td>male</td>\n",
       "      <td>22.0</td>\n",
       "      <td>1</td>\n",
       "      <td>0</td>\n",
       "      <td>A/5 21171</td>\n",
       "      <td>7.2500</td>\n",
       "      <td>NaN</td>\n",
       "      <td>S</td>\n",
       "    </tr>\n",
       "    <tr>\n",
       "      <th>1</th>\n",
       "      <td>2</td>\n",
       "      <td>1</td>\n",
       "      <td>1</td>\n",
       "      <td>Cumings, Mrs. John Bradley (Florence Briggs Th...</td>\n",
       "      <td>female</td>\n",
       "      <td>38.0</td>\n",
       "      <td>1</td>\n",
       "      <td>0</td>\n",
       "      <td>PC 17599</td>\n",
       "      <td>71.2833</td>\n",
       "      <td>C85</td>\n",
       "      <td>C</td>\n",
       "    </tr>\n",
       "    <tr>\n",
       "      <th>2</th>\n",
       "      <td>3</td>\n",
       "      <td>1</td>\n",
       "      <td>3</td>\n",
       "      <td>Heikkinen, Miss. Laina</td>\n",
       "      <td>female</td>\n",
       "      <td>26.0</td>\n",
       "      <td>0</td>\n",
       "      <td>0</td>\n",
       "      <td>STON/O2. 3101282</td>\n",
       "      <td>7.9250</td>\n",
       "      <td>NaN</td>\n",
       "      <td>S</td>\n",
       "    </tr>\n",
       "    <tr>\n",
       "      <th>3</th>\n",
       "      <td>4</td>\n",
       "      <td>1</td>\n",
       "      <td>1</td>\n",
       "      <td>Futrelle, Mrs. Jacques Heath (Lily May Peel)</td>\n",
       "      <td>female</td>\n",
       "      <td>35.0</td>\n",
       "      <td>1</td>\n",
       "      <td>0</td>\n",
       "      <td>113803</td>\n",
       "      <td>53.1000</td>\n",
       "      <td>C123</td>\n",
       "      <td>S</td>\n",
       "    </tr>\n",
       "    <tr>\n",
       "      <th>4</th>\n",
       "      <td>5</td>\n",
       "      <td>0</td>\n",
       "      <td>3</td>\n",
       "      <td>Allen, Mr. William Henry</td>\n",
       "      <td>male</td>\n",
       "      <td>35.0</td>\n",
       "      <td>0</td>\n",
       "      <td>0</td>\n",
       "      <td>373450</td>\n",
       "      <td>8.0500</td>\n",
       "      <td>NaN</td>\n",
       "      <td>S</td>\n",
       "    </tr>\n",
       "  </tbody>\n",
       "</table>\n",
       "</div>"
      ],
      "text/plain": [
       "   PassengerId  Survived  Pclass  \\\n",
       "0            1         0       3   \n",
       "1            2         1       1   \n",
       "2            3         1       3   \n",
       "3            4         1       1   \n",
       "4            5         0       3   \n",
       "\n",
       "                                                Name     Sex   Age  SibSp  \\\n",
       "0                            Braund, Mr. Owen Harris    male  22.0      1   \n",
       "1  Cumings, Mrs. John Bradley (Florence Briggs Th...  female  38.0      1   \n",
       "2                             Heikkinen, Miss. Laina  female  26.0      0   \n",
       "3       Futrelle, Mrs. Jacques Heath (Lily May Peel)  female  35.0      1   \n",
       "4                           Allen, Mr. William Henry    male  35.0      0   \n",
       "\n",
       "   Parch            Ticket     Fare Cabin Embarked  \n",
       "0      0         A/5 21171   7.2500   NaN        S  \n",
       "1      0          PC 17599  71.2833   C85        C  \n",
       "2      0  STON/O2. 3101282   7.9250   NaN        S  \n",
       "3      0            113803  53.1000  C123        S  \n",
       "4      0            373450   8.0500   NaN        S  "
      ]
     },
     "execution_count": 2,
     "metadata": {},
     "output_type": "execute_result"
    }
   ],
   "source": [
    "df = pd.read_csv(\"../input/dec-titanic/titanic.csv\")\n",
    "df.head()"
   ]
  },
  {
   "cell_type": "code",
   "execution_count": 3,
   "id": "6be15eb5",
   "metadata": {
    "execution": {
     "iopub.execute_input": "2022-04-21T08:13:26.382984Z",
     "iopub.status.busy": "2022-04-21T08:13:26.382701Z",
     "iopub.status.idle": "2022-04-21T08:13:26.394983Z",
     "shell.execute_reply": "2022-04-21T08:13:26.394280Z"
    },
    "papermill": {
     "duration": 0.033037,
     "end_time": "2022-04-21T08:13:26.397357",
     "exception": false,
     "start_time": "2022-04-21T08:13:26.364320",
     "status": "completed"
    },
    "tags": []
   },
   "outputs": [],
   "source": [
    "df.drop(['PassengerId','Name','SibSp','Parch','Ticket','Cabin','Embarked'],axis='columns',inplace=True)"
   ]
  },
  {
   "cell_type": "code",
   "execution_count": 4,
   "id": "22f0aa3f",
   "metadata": {
    "execution": {
     "iopub.execute_input": "2022-04-21T08:13:26.433705Z",
     "iopub.status.busy": "2022-04-21T08:13:26.433371Z",
     "iopub.status.idle": "2022-04-21T08:13:26.445738Z",
     "shell.execute_reply": "2022-04-21T08:13:26.444860Z"
    },
    "papermill": {
     "duration": 0.033478,
     "end_time": "2022-04-21T08:13:26.448009",
     "exception": false,
     "start_time": "2022-04-21T08:13:26.414531",
     "status": "completed"
    },
    "tags": []
   },
   "outputs": [
    {
     "data": {
      "text/html": [
       "<div>\n",
       "<style scoped>\n",
       "    .dataframe tbody tr th:only-of-type {\n",
       "        vertical-align: middle;\n",
       "    }\n",
       "\n",
       "    .dataframe tbody tr th {\n",
       "        vertical-align: top;\n",
       "    }\n",
       "\n",
       "    .dataframe thead th {\n",
       "        text-align: right;\n",
       "    }\n",
       "</style>\n",
       "<table border=\"1\" class=\"dataframe\">\n",
       "  <thead>\n",
       "    <tr style=\"text-align: right;\">\n",
       "      <th></th>\n",
       "      <th>Survived</th>\n",
       "      <th>Pclass</th>\n",
       "      <th>Sex</th>\n",
       "      <th>Age</th>\n",
       "      <th>Fare</th>\n",
       "    </tr>\n",
       "  </thead>\n",
       "  <tbody>\n",
       "    <tr>\n",
       "      <th>0</th>\n",
       "      <td>0</td>\n",
       "      <td>3</td>\n",
       "      <td>male</td>\n",
       "      <td>22.0</td>\n",
       "      <td>7.2500</td>\n",
       "    </tr>\n",
       "    <tr>\n",
       "      <th>1</th>\n",
       "      <td>1</td>\n",
       "      <td>1</td>\n",
       "      <td>female</td>\n",
       "      <td>38.0</td>\n",
       "      <td>71.2833</td>\n",
       "    </tr>\n",
       "    <tr>\n",
       "      <th>2</th>\n",
       "      <td>1</td>\n",
       "      <td>3</td>\n",
       "      <td>female</td>\n",
       "      <td>26.0</td>\n",
       "      <td>7.9250</td>\n",
       "    </tr>\n",
       "    <tr>\n",
       "      <th>3</th>\n",
       "      <td>1</td>\n",
       "      <td>1</td>\n",
       "      <td>female</td>\n",
       "      <td>35.0</td>\n",
       "      <td>53.1000</td>\n",
       "    </tr>\n",
       "    <tr>\n",
       "      <th>4</th>\n",
       "      <td>0</td>\n",
       "      <td>3</td>\n",
       "      <td>male</td>\n",
       "      <td>35.0</td>\n",
       "      <td>8.0500</td>\n",
       "    </tr>\n",
       "  </tbody>\n",
       "</table>\n",
       "</div>"
      ],
      "text/plain": [
       "   Survived  Pclass     Sex   Age     Fare\n",
       "0         0       3    male  22.0   7.2500\n",
       "1         1       1  female  38.0  71.2833\n",
       "2         1       3  female  26.0   7.9250\n",
       "3         1       1  female  35.0  53.1000\n",
       "4         0       3    male  35.0   8.0500"
      ]
     },
     "execution_count": 4,
     "metadata": {},
     "output_type": "execute_result"
    }
   ],
   "source": [
    "df.head()"
   ]
  },
  {
   "cell_type": "code",
   "execution_count": 5,
   "id": "bde96b17",
   "metadata": {
    "execution": {
     "iopub.execute_input": "2022-04-21T08:13:26.483971Z",
     "iopub.status.busy": "2022-04-21T08:13:26.483700Z",
     "iopub.status.idle": "2022-04-21T08:13:26.490384Z",
     "shell.execute_reply": "2022-04-21T08:13:26.489739Z"
    },
    "papermill": {
     "duration": 0.026968,
     "end_time": "2022-04-21T08:13:26.492338",
     "exception": false,
     "start_time": "2022-04-21T08:13:26.465370",
     "status": "completed"
    },
    "tags": []
   },
   "outputs": [],
   "source": [
    "inputs = df.drop('Survived',axis='columns')\n",
    "target = df.Survived"
   ]
  },
  {
   "cell_type": "code",
   "execution_count": 6,
   "id": "cf67f250",
   "metadata": {
    "execution": {
     "iopub.execute_input": "2022-04-21T08:13:26.533500Z",
     "iopub.status.busy": "2022-04-21T08:13:26.532949Z",
     "iopub.status.idle": "2022-04-21T08:13:26.541160Z",
     "shell.execute_reply": "2022-04-21T08:13:26.540276Z"
    },
    "papermill": {
     "duration": 0.032666,
     "end_time": "2022-04-21T08:13:26.543294",
     "exception": false,
     "start_time": "2022-04-21T08:13:26.510628",
     "status": "completed"
    },
    "tags": []
   },
   "outputs": [],
   "source": [
    "inputs.Sex = inputs.Sex.map({'male': 1, 'female': 2})"
   ]
  },
  {
   "cell_type": "code",
   "execution_count": 7,
   "id": "3391125d",
   "metadata": {
    "execution": {
     "iopub.execute_input": "2022-04-21T08:13:26.590059Z",
     "iopub.status.busy": "2022-04-21T08:13:26.589404Z",
     "iopub.status.idle": "2022-04-21T08:13:26.598622Z",
     "shell.execute_reply": "2022-04-21T08:13:26.597371Z"
    },
    "papermill": {
     "duration": 0.035012,
     "end_time": "2022-04-21T08:13:26.601073",
     "exception": false,
     "start_time": "2022-04-21T08:13:26.566061",
     "status": "completed"
    },
    "tags": []
   },
   "outputs": [
    {
     "data": {
      "text/plain": [
       "0    22.0\n",
       "1    38.0\n",
       "2    26.0\n",
       "3    35.0\n",
       "4    35.0\n",
       "5     NaN\n",
       "6    54.0\n",
       "7     2.0\n",
       "8    27.0\n",
       "9    14.0\n",
       "Name: Age, dtype: float64"
      ]
     },
     "execution_count": 7,
     "metadata": {},
     "output_type": "execute_result"
    }
   ],
   "source": [
    "inputs.Age[:10]"
   ]
  },
  {
   "cell_type": "code",
   "execution_count": 8,
   "id": "52368b16",
   "metadata": {
    "execution": {
     "iopub.execute_input": "2022-04-21T08:13:26.646312Z",
     "iopub.status.busy": "2022-04-21T08:13:26.645764Z",
     "iopub.status.idle": "2022-04-21T08:13:26.650772Z",
     "shell.execute_reply": "2022-04-21T08:13:26.649956Z"
    },
    "papermill": {
     "duration": 0.02648,
     "end_time": "2022-04-21T08:13:26.652888",
     "exception": false,
     "start_time": "2022-04-21T08:13:26.626408",
     "status": "completed"
    },
    "tags": []
   },
   "outputs": [],
   "source": [
    "inputs.Age = inputs.Age.fillna(inputs.Age.mean())"
   ]
  },
  {
   "cell_type": "code",
   "execution_count": 9,
   "id": "654cfc57",
   "metadata": {
    "execution": {
     "iopub.execute_input": "2022-04-21T08:13:26.690576Z",
     "iopub.status.busy": "2022-04-21T08:13:26.689908Z",
     "iopub.status.idle": "2022-04-21T08:13:26.700575Z",
     "shell.execute_reply": "2022-04-21T08:13:26.699932Z"
    },
    "papermill": {
     "duration": 0.031579,
     "end_time": "2022-04-21T08:13:26.702767",
     "exception": false,
     "start_time": "2022-04-21T08:13:26.671188",
     "status": "completed"
    },
    "tags": []
   },
   "outputs": [
    {
     "data": {
      "text/html": [
       "<div>\n",
       "<style scoped>\n",
       "    .dataframe tbody tr th:only-of-type {\n",
       "        vertical-align: middle;\n",
       "    }\n",
       "\n",
       "    .dataframe tbody tr th {\n",
       "        vertical-align: top;\n",
       "    }\n",
       "\n",
       "    .dataframe thead th {\n",
       "        text-align: right;\n",
       "    }\n",
       "</style>\n",
       "<table border=\"1\" class=\"dataframe\">\n",
       "  <thead>\n",
       "    <tr style=\"text-align: right;\">\n",
       "      <th></th>\n",
       "      <th>Pclass</th>\n",
       "      <th>Sex</th>\n",
       "      <th>Age</th>\n",
       "      <th>Fare</th>\n",
       "    </tr>\n",
       "  </thead>\n",
       "  <tbody>\n",
       "    <tr>\n",
       "      <th>0</th>\n",
       "      <td>3</td>\n",
       "      <td>1</td>\n",
       "      <td>22.0</td>\n",
       "      <td>7.2500</td>\n",
       "    </tr>\n",
       "    <tr>\n",
       "      <th>1</th>\n",
       "      <td>1</td>\n",
       "      <td>2</td>\n",
       "      <td>38.0</td>\n",
       "      <td>71.2833</td>\n",
       "    </tr>\n",
       "    <tr>\n",
       "      <th>2</th>\n",
       "      <td>3</td>\n",
       "      <td>2</td>\n",
       "      <td>26.0</td>\n",
       "      <td>7.9250</td>\n",
       "    </tr>\n",
       "    <tr>\n",
       "      <th>3</th>\n",
       "      <td>1</td>\n",
       "      <td>2</td>\n",
       "      <td>35.0</td>\n",
       "      <td>53.1000</td>\n",
       "    </tr>\n",
       "    <tr>\n",
       "      <th>4</th>\n",
       "      <td>3</td>\n",
       "      <td>1</td>\n",
       "      <td>35.0</td>\n",
       "      <td>8.0500</td>\n",
       "    </tr>\n",
       "  </tbody>\n",
       "</table>\n",
       "</div>"
      ],
      "text/plain": [
       "   Pclass  Sex   Age     Fare\n",
       "0       3    1  22.0   7.2500\n",
       "1       1    2  38.0  71.2833\n",
       "2       3    2  26.0   7.9250\n",
       "3       1    2  35.0  53.1000\n",
       "4       3    1  35.0   8.0500"
      ]
     },
     "execution_count": 9,
     "metadata": {},
     "output_type": "execute_result"
    }
   ],
   "source": [
    "inputs.head()"
   ]
  },
  {
   "cell_type": "code",
   "execution_count": 10,
   "id": "5696f40a",
   "metadata": {
    "execution": {
     "iopub.execute_input": "2022-04-21T08:13:26.742748Z",
     "iopub.status.busy": "2022-04-21T08:13:26.742198Z",
     "iopub.status.idle": "2022-04-21T08:13:27.852213Z",
     "shell.execute_reply": "2022-04-21T08:13:27.851263Z"
    },
    "papermill": {
     "duration": 1.133273,
     "end_time": "2022-04-21T08:13:27.854857",
     "exception": false,
     "start_time": "2022-04-21T08:13:26.721584",
     "status": "completed"
    },
    "tags": []
   },
   "outputs": [],
   "source": [
    "from sklearn.model_selection import train_test_split"
   ]
  },
  {
   "cell_type": "code",
   "execution_count": 11,
   "id": "818f48af",
   "metadata": {
    "execution": {
     "iopub.execute_input": "2022-04-21T08:13:27.892794Z",
     "iopub.status.busy": "2022-04-21T08:13:27.892474Z",
     "iopub.status.idle": "2022-04-21T08:13:27.900228Z",
     "shell.execute_reply": "2022-04-21T08:13:27.899096Z"
    },
    "papermill": {
     "duration": 0.029255,
     "end_time": "2022-04-21T08:13:27.902478",
     "exception": false,
     "start_time": "2022-04-21T08:13:27.873223",
     "status": "completed"
    },
    "tags": []
   },
   "outputs": [],
   "source": [
    "X_train, X_test, y_train, y_test = train_test_split(inputs,target,test_size=0.2)"
   ]
  },
  {
   "cell_type": "code",
   "execution_count": 12,
   "id": "7abfc2c6",
   "metadata": {
    "execution": {
     "iopub.execute_input": "2022-04-21T08:13:27.941059Z",
     "iopub.status.busy": "2022-04-21T08:13:27.940413Z",
     "iopub.status.idle": "2022-04-21T08:13:27.947063Z",
     "shell.execute_reply": "2022-04-21T08:13:27.946220Z"
    },
    "papermill": {
     "duration": 0.028513,
     "end_time": "2022-04-21T08:13:27.949529",
     "exception": false,
     "start_time": "2022-04-21T08:13:27.921016",
     "status": "completed"
    },
    "tags": []
   },
   "outputs": [
    {
     "data": {
      "text/plain": [
       "712"
      ]
     },
     "execution_count": 12,
     "metadata": {},
     "output_type": "execute_result"
    }
   ],
   "source": [
    "len(X_train)"
   ]
  },
  {
   "cell_type": "code",
   "execution_count": 13,
   "id": "b0591085",
   "metadata": {
    "execution": {
     "iopub.execute_input": "2022-04-21T08:13:27.989401Z",
     "iopub.status.busy": "2022-04-21T08:13:27.988589Z",
     "iopub.status.idle": "2022-04-21T08:13:28.160055Z",
     "shell.execute_reply": "2022-04-21T08:13:28.159201Z"
    },
    "papermill": {
     "duration": 0.193712,
     "end_time": "2022-04-21T08:13:28.162615",
     "exception": false,
     "start_time": "2022-04-21T08:13:27.968903",
     "status": "completed"
    },
    "tags": []
   },
   "outputs": [],
   "source": [
    "from sklearn import tree\n",
    "model = tree.DecisionTreeClassifier()"
   ]
  },
  {
   "cell_type": "code",
   "execution_count": 14,
   "id": "e36acccd",
   "metadata": {
    "execution": {
     "iopub.execute_input": "2022-04-21T08:13:28.201136Z",
     "iopub.status.busy": "2022-04-21T08:13:28.200400Z",
     "iopub.status.idle": "2022-04-21T08:13:28.212126Z",
     "shell.execute_reply": "2022-04-21T08:13:28.211550Z"
    },
    "papermill": {
     "duration": 0.033471,
     "end_time": "2022-04-21T08:13:28.214330",
     "exception": false,
     "start_time": "2022-04-21T08:13:28.180859",
     "status": "completed"
    },
    "tags": []
   },
   "outputs": [
    {
     "data": {
      "text/plain": [
       "DecisionTreeClassifier()"
      ]
     },
     "execution_count": 14,
     "metadata": {},
     "output_type": "execute_result"
    }
   ],
   "source": [
    "model.fit(X_train,y_train)"
   ]
  },
  {
   "cell_type": "code",
   "execution_count": 15,
   "id": "6a5c7abb",
   "metadata": {
    "execution": {
     "iopub.execute_input": "2022-04-21T08:13:28.255395Z",
     "iopub.status.busy": "2022-04-21T08:13:28.254585Z",
     "iopub.status.idle": "2022-04-21T08:13:28.264101Z",
     "shell.execute_reply": "2022-04-21T08:13:28.263099Z"
    },
    "papermill": {
     "duration": 0.031489,
     "end_time": "2022-04-21T08:13:28.266259",
     "exception": false,
     "start_time": "2022-04-21T08:13:28.234770",
     "status": "completed"
    },
    "tags": []
   },
   "outputs": [
    {
     "data": {
      "text/plain": [
       "0.770949720670391"
      ]
     },
     "execution_count": 15,
     "metadata": {},
     "output_type": "execute_result"
    }
   ],
   "source": [
    "model.score(X_test,y_test)"
   ]
  }
 ],
 "metadata": {
  "kernelspec": {
   "display_name": "Python 3",
   "language": "python",
   "name": "python3"
  },
  "language_info": {
   "codemirror_mode": {
    "name": "ipython",
    "version": 3
   },
   "file_extension": ".py",
   "mimetype": "text/x-python",
   "name": "python",
   "nbconvert_exporter": "python",
   "pygments_lexer": "ipython3",
   "version": "3.7.12"
  },
  "papermill": {
   "default_parameters": {},
   "duration": 12.822444,
   "end_time": "2022-04-21T08:13:29.006716",
   "environment_variables": {},
   "exception": null,
   "input_path": "__notebook__.ipynb",
   "output_path": "__notebook__.ipynb",
   "parameters": {},
   "start_time": "2022-04-21T08:13:16.184272",
   "version": "2.3.4"
  }
 },
 "nbformat": 4,
 "nbformat_minor": 5
}
