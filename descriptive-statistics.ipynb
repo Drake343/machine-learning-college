{
 "cells": [
  {
   "cell_type": "code",
   "execution_count": 1,
   "id": "4b9300f7",
   "metadata": {
    "_cell_guid": "b1076dfc-b9ad-4769-8c92-a6c4dae69d19",
    "_uuid": "8f2839f25d086af736a60e9eeb907d3b93b6e0e5",
    "execution": {
     "iopub.execute_input": "2022-03-16T16:56:56.682582Z",
     "iopub.status.busy": "2022-03-16T16:56:56.680809Z",
     "iopub.status.idle": "2022-03-16T16:57:08.418372Z",
     "shell.execute_reply": "2022-03-16T16:57:08.417647Z",
     "shell.execute_reply.started": "2022-03-16T16:30:12.943030Z"
    },
    "papermill": {
     "duration": 11.764008,
     "end_time": "2022-03-16T16:57:08.418539",
     "exception": false,
     "start_time": "2022-03-16T16:56:56.654531",
     "status": "completed"
    },
    "tags": []
   },
   "outputs": [
    {
     "name": "stdout",
     "output_type": "stream",
     "text": [
      "Collecting openpyxl\r\n",
      "  Downloading openpyxl-3.0.9-py2.py3-none-any.whl (242 kB)\r\n",
      "     |████████████████████████████████| 242 kB 887 kB/s            \r\n",
      "\u001b[?25hCollecting et-xmlfile\r\n",
      "  Downloading et_xmlfile-1.1.0-py3-none-any.whl (4.7 kB)\r\n",
      "Installing collected packages: et-xmlfile, openpyxl\r\n",
      "Successfully installed et-xmlfile-1.1.0 openpyxl-3.0.9\r\n",
      "\u001b[33mWARNING: Running pip as the 'root' user can result in broken permissions and conflicting behaviour with the system package manager. It is recommended to use a virtual environment instead: https://pip.pypa.io/warnings/venv\u001b[0m\r\n",
      "Note: you may need to restart the kernel to use updated packages.\n"
     ]
    }
   ],
   "source": [
    "pip install openpyxl"
   ]
  },
  {
   "cell_type": "code",
   "execution_count": 2,
   "id": "c996ff66",
   "metadata": {
    "execution": {
     "iopub.execute_input": "2022-03-16T16:57:08.474223Z",
     "iopub.status.busy": "2022-03-16T16:57:08.473513Z",
     "iopub.status.idle": "2022-03-16T16:57:08.476671Z",
     "shell.execute_reply": "2022-03-16T16:57:08.476082Z",
     "shell.execute_reply.started": "2022-03-16T16:30:36.634236Z"
    },
    "papermill": {
     "duration": 0.033049,
     "end_time": "2022-03-16T16:57:08.476806",
     "exception": false,
     "start_time": "2022-03-16T16:57:08.443757",
     "status": "completed"
    },
    "tags": []
   },
   "outputs": [],
   "source": [
    "import pandas as pd\n",
    "from matplotlib import pyplot as plt"
   ]
  },
  {
   "cell_type": "code",
   "execution_count": 3,
   "id": "a1c5a61c",
   "metadata": {
    "execution": {
     "iopub.execute_input": "2022-03-16T16:57:08.530867Z",
     "iopub.status.busy": "2022-03-16T16:57:08.529903Z",
     "iopub.status.idle": "2022-03-16T16:57:08.961111Z",
     "shell.execute_reply": "2022-03-16T16:57:08.960521Z",
     "shell.execute_reply.started": "2022-03-16T16:30:40.106559Z"
    },
    "papermill": {
     "duration": 0.460377,
     "end_time": "2022-03-16T16:57:08.961252",
     "exception": false,
     "start_time": "2022-03-16T16:57:08.500875",
     "status": "completed"
    },
    "tags": []
   },
   "outputs": [
    {
     "data": {
      "text/html": [
       "<div>\n",
       "<style scoped>\n",
       "    .dataframe tbody tr th:only-of-type {\n",
       "        vertical-align: middle;\n",
       "    }\n",
       "\n",
       "    .dataframe tbody tr th {\n",
       "        vertical-align: top;\n",
       "    }\n",
       "\n",
       "    .dataframe thead th {\n",
       "        text-align: right;\n",
       "    }\n",
       "</style>\n",
       "<table border=\"1\" class=\"dataframe\">\n",
       "  <thead>\n",
       "    <tr style=\"text-align: right;\">\n",
       "      <th></th>\n",
       "      <th>SL No.</th>\n",
       "      <th>Developer_Experience</th>\n",
       "      <th>Code_Reuse</th>\n",
       "      <th>Knowledge_Repository_Usage</th>\n",
       "      <th>Productivity</th>\n",
       "    </tr>\n",
       "  </thead>\n",
       "  <tbody>\n",
       "    <tr>\n",
       "      <th>0</th>\n",
       "      <td>1</td>\n",
       "      <td>1</td>\n",
       "      <td>1</td>\n",
       "      <td>1</td>\n",
       "      <td>140</td>\n",
       "    </tr>\n",
       "    <tr>\n",
       "      <th>1</th>\n",
       "      <td>2</td>\n",
       "      <td>2</td>\n",
       "      <td>2</td>\n",
       "      <td>2</td>\n",
       "      <td>20</td>\n",
       "    </tr>\n",
       "    <tr>\n",
       "      <th>2</th>\n",
       "      <td>3</td>\n",
       "      <td>2</td>\n",
       "      <td>1</td>\n",
       "      <td>2</td>\n",
       "      <td>30</td>\n",
       "    </tr>\n",
       "    <tr>\n",
       "      <th>3</th>\n",
       "      <td>4</td>\n",
       "      <td>2</td>\n",
       "      <td>1</td>\n",
       "      <td>2</td>\n",
       "      <td>30</td>\n",
       "    </tr>\n",
       "    <tr>\n",
       "      <th>4</th>\n",
       "      <td>5</td>\n",
       "      <td>1</td>\n",
       "      <td>1</td>\n",
       "      <td>1</td>\n",
       "      <td>130</td>\n",
       "    </tr>\n",
       "    <tr>\n",
       "      <th>5</th>\n",
       "      <td>6</td>\n",
       "      <td>2</td>\n",
       "      <td>1</td>\n",
       "      <td>2</td>\n",
       "      <td>60</td>\n",
       "    </tr>\n",
       "    <tr>\n",
       "      <th>6</th>\n",
       "      <td>7</td>\n",
       "      <td>2</td>\n",
       "      <td>2</td>\n",
       "      <td>2</td>\n",
       "      <td>20</td>\n",
       "    </tr>\n",
       "    <tr>\n",
       "      <th>7</th>\n",
       "      <td>8</td>\n",
       "      <td>2</td>\n",
       "      <td>2</td>\n",
       "      <td>2</td>\n",
       "      <td>60</td>\n",
       "    </tr>\n",
       "    <tr>\n",
       "      <th>8</th>\n",
       "      <td>9</td>\n",
       "      <td>2</td>\n",
       "      <td>1</td>\n",
       "      <td>2</td>\n",
       "      <td>60</td>\n",
       "    </tr>\n",
       "    <tr>\n",
       "      <th>9</th>\n",
       "      <td>10</td>\n",
       "      <td>1</td>\n",
       "      <td>1</td>\n",
       "      <td>2</td>\n",
       "      <td>90</td>\n",
       "    </tr>\n",
       "    <tr>\n",
       "      <th>10</th>\n",
       "      <td>11</td>\n",
       "      <td>2</td>\n",
       "      <td>2</td>\n",
       "      <td>2</td>\n",
       "      <td>30</td>\n",
       "    </tr>\n",
       "    <tr>\n",
       "      <th>11</th>\n",
       "      <td>12</td>\n",
       "      <td>2</td>\n",
       "      <td>2</td>\n",
       "      <td>2</td>\n",
       "      <td>40</td>\n",
       "    </tr>\n",
       "    <tr>\n",
       "      <th>12</th>\n",
       "      <td>13</td>\n",
       "      <td>1</td>\n",
       "      <td>2</td>\n",
       "      <td>1</td>\n",
       "      <td>90</td>\n",
       "    </tr>\n",
       "    <tr>\n",
       "      <th>13</th>\n",
       "      <td>14</td>\n",
       "      <td>1</td>\n",
       "      <td>2</td>\n",
       "      <td>2</td>\n",
       "      <td>50</td>\n",
       "    </tr>\n",
       "    <tr>\n",
       "      <th>14</th>\n",
       "      <td>15</td>\n",
       "      <td>1</td>\n",
       "      <td>1</td>\n",
       "      <td>2</td>\n",
       "      <td>50</td>\n",
       "    </tr>\n",
       "    <tr>\n",
       "      <th>15</th>\n",
       "      <td>16</td>\n",
       "      <td>2</td>\n",
       "      <td>2</td>\n",
       "      <td>2</td>\n",
       "      <td>30</td>\n",
       "    </tr>\n",
       "    <tr>\n",
       "      <th>16</th>\n",
       "      <td>17</td>\n",
       "      <td>1</td>\n",
       "      <td>1</td>\n",
       "      <td>1</td>\n",
       "      <td>90</td>\n",
       "    </tr>\n",
       "    <tr>\n",
       "      <th>17</th>\n",
       "      <td>18</td>\n",
       "      <td>1</td>\n",
       "      <td>1</td>\n",
       "      <td>2</td>\n",
       "      <td>40</td>\n",
       "    </tr>\n",
       "    <tr>\n",
       "      <th>18</th>\n",
       "      <td>19</td>\n",
       "      <td>1</td>\n",
       "      <td>1</td>\n",
       "      <td>1</td>\n",
       "      <td>140</td>\n",
       "    </tr>\n",
       "    <tr>\n",
       "      <th>19</th>\n",
       "      <td>20</td>\n",
       "      <td>2</td>\n",
       "      <td>2</td>\n",
       "      <td>2</td>\n",
       "      <td>60</td>\n",
       "    </tr>\n",
       "    <tr>\n",
       "      <th>20</th>\n",
       "      <td>21</td>\n",
       "      <td>1</td>\n",
       "      <td>2</td>\n",
       "      <td>2</td>\n",
       "      <td>60</td>\n",
       "    </tr>\n",
       "    <tr>\n",
       "      <th>21</th>\n",
       "      <td>22</td>\n",
       "      <td>1</td>\n",
       "      <td>2</td>\n",
       "      <td>1</td>\n",
       "      <td>70</td>\n",
       "    </tr>\n",
       "    <tr>\n",
       "      <th>22</th>\n",
       "      <td>23</td>\n",
       "      <td>2</td>\n",
       "      <td>2</td>\n",
       "      <td>2</td>\n",
       "      <td>20</td>\n",
       "    </tr>\n",
       "    <tr>\n",
       "      <th>23</th>\n",
       "      <td>24</td>\n",
       "      <td>1</td>\n",
       "      <td>1</td>\n",
       "      <td>1</td>\n",
       "      <td>150</td>\n",
       "    </tr>\n",
       "    <tr>\n",
       "      <th>24</th>\n",
       "      <td>25</td>\n",
       "      <td>2</td>\n",
       "      <td>1</td>\n",
       "      <td>2</td>\n",
       "      <td>60</td>\n",
       "    </tr>\n",
       "    <tr>\n",
       "      <th>25</th>\n",
       "      <td>26</td>\n",
       "      <td>1</td>\n",
       "      <td>1</td>\n",
       "      <td>1</td>\n",
       "      <td>130</td>\n",
       "    </tr>\n",
       "    <tr>\n",
       "      <th>26</th>\n",
       "      <td>27</td>\n",
       "      <td>2</td>\n",
       "      <td>1</td>\n",
       "      <td>1</td>\n",
       "      <td>75</td>\n",
       "    </tr>\n",
       "    <tr>\n",
       "      <th>27</th>\n",
       "      <td>28</td>\n",
       "      <td>2</td>\n",
       "      <td>2</td>\n",
       "      <td>2</td>\n",
       "      <td>20</td>\n",
       "    </tr>\n",
       "    <tr>\n",
       "      <th>28</th>\n",
       "      <td>29</td>\n",
       "      <td>1</td>\n",
       "      <td>1</td>\n",
       "      <td>2</td>\n",
       "      <td>40</td>\n",
       "    </tr>\n",
       "    <tr>\n",
       "      <th>29</th>\n",
       "      <td>30</td>\n",
       "      <td>1</td>\n",
       "      <td>1</td>\n",
       "      <td>2</td>\n",
       "      <td>60</td>\n",
       "    </tr>\n",
       "  </tbody>\n",
       "</table>\n",
       "</div>"
      ],
      "text/plain": [
       "    SL No.  Developer_Experience  Code_Reuse  Knowledge_Repository_Usage  \\\n",
       "0        1                     1           1                           1   \n",
       "1        2                     2           2                           2   \n",
       "2        3                     2           1                           2   \n",
       "3        4                     2           1                           2   \n",
       "4        5                     1           1                           1   \n",
       "5        6                     2           1                           2   \n",
       "6        7                     2           2                           2   \n",
       "7        8                     2           2                           2   \n",
       "8        9                     2           1                           2   \n",
       "9       10                     1           1                           2   \n",
       "10      11                     2           2                           2   \n",
       "11      12                     2           2                           2   \n",
       "12      13                     1           2                           1   \n",
       "13      14                     1           2                           2   \n",
       "14      15                     1           1                           2   \n",
       "15      16                     2           2                           2   \n",
       "16      17                     1           1                           1   \n",
       "17      18                     1           1                           2   \n",
       "18      19                     1           1                           1   \n",
       "19      20                     2           2                           2   \n",
       "20      21                     1           2                           2   \n",
       "21      22                     1           2                           1   \n",
       "22      23                     2           2                           2   \n",
       "23      24                     1           1                           1   \n",
       "24      25                     2           1                           2   \n",
       "25      26                     1           1                           1   \n",
       "26      27                     2           1                           1   \n",
       "27      28                     2           2                           2   \n",
       "28      29                     1           1                           2   \n",
       "29      30                     1           1                           2   \n",
       "\n",
       "    Productivity  \n",
       "0            140  \n",
       "1             20  \n",
       "2             30  \n",
       "3             30  \n",
       "4            130  \n",
       "5             60  \n",
       "6             20  \n",
       "7             60  \n",
       "8             60  \n",
       "9             90  \n",
       "10            30  \n",
       "11            40  \n",
       "12            90  \n",
       "13            50  \n",
       "14            50  \n",
       "15            30  \n",
       "16            90  \n",
       "17            40  \n",
       "18           140  \n",
       "19            60  \n",
       "20            60  \n",
       "21            70  \n",
       "22            20  \n",
       "23           150  \n",
       "24            60  \n",
       "25           130  \n",
       "26            75  \n",
       "27            20  \n",
       "28            40  \n",
       "29            60  "
      ]
     },
     "execution_count": 3,
     "metadata": {},
     "output_type": "execute_result"
    }
   ],
   "source": [
    "mydata = pd.read_excel(\"../input/descriptive-productivity/Productivity.xlsx\")\n",
    "mydata"
   ]
  },
  {
   "cell_type": "code",
   "execution_count": 4,
   "id": "d487ba68",
   "metadata": {
    "execution": {
     "iopub.execute_input": "2022-03-16T16:57:09.019869Z",
     "iopub.status.busy": "2022-03-16T16:57:09.019225Z",
     "iopub.status.idle": "2022-03-16T16:57:09.022621Z",
     "shell.execute_reply": "2022-03-16T16:57:09.021945Z",
     "shell.execute_reply.started": "2022-03-16T16:34:54.236857Z"
    },
    "papermill": {
     "duration": 0.036119,
     "end_time": "2022-03-16T16:57:09.022760",
     "exception": false,
     "start_time": "2022-03-16T16:57:08.986641",
     "status": "completed"
    },
    "tags": []
   },
   "outputs": [],
   "source": [
    "prod = mydata[\"Productivity\"]"
   ]
  },
  {
   "cell_type": "code",
   "execution_count": 5,
   "id": "63ef7931",
   "metadata": {
    "execution": {
     "iopub.execute_input": "2022-03-16T16:57:09.079627Z",
     "iopub.status.busy": "2022-03-16T16:57:09.078842Z",
     "iopub.status.idle": "2022-03-16T16:57:09.081716Z",
     "shell.execute_reply": "2022-03-16T16:57:09.082204Z",
     "shell.execute_reply.started": "2022-03-16T16:35:18.092359Z"
    },
    "papermill": {
     "duration": 0.033904,
     "end_time": "2022-03-16T16:57:09.082369",
     "exception": false,
     "start_time": "2022-03-16T16:57:09.048465",
     "status": "completed"
    },
    "tags": []
   },
   "outputs": [
    {
     "data": {
      "text/plain": [
       "64.83333333333333"
      ]
     },
     "execution_count": 5,
     "metadata": {},
     "output_type": "execute_result"
    }
   ],
   "source": [
    "prod.mean()"
   ]
  },
  {
   "cell_type": "code",
   "execution_count": 6,
   "id": "9d144102",
   "metadata": {
    "execution": {
     "iopub.execute_input": "2022-03-16T16:57:09.138859Z",
     "iopub.status.busy": "2022-03-16T16:57:09.137949Z",
     "iopub.status.idle": "2022-03-16T16:57:09.142051Z",
     "shell.execute_reply": "2022-03-16T16:57:09.141455Z",
     "shell.execute_reply.started": "2022-03-16T16:35:36.103255Z"
    },
    "papermill": {
     "duration": 0.034654,
     "end_time": "2022-03-16T16:57:09.142237",
     "exception": false,
     "start_time": "2022-03-16T16:57:09.107583",
     "status": "completed"
    },
    "tags": []
   },
   "outputs": [
    {
     "data": {
      "text/plain": [
       "60.0"
      ]
     },
     "execution_count": 6,
     "metadata": {},
     "output_type": "execute_result"
    }
   ],
   "source": [
    "prod.median()"
   ]
  },
  {
   "cell_type": "code",
   "execution_count": 7,
   "id": "e1b5adfe",
   "metadata": {
    "execution": {
     "iopub.execute_input": "2022-03-16T16:57:09.202892Z",
     "iopub.status.busy": "2022-03-16T16:57:09.202196Z",
     "iopub.status.idle": "2022-03-16T16:57:09.204736Z",
     "shell.execute_reply": "2022-03-16T16:57:09.205215Z",
     "shell.execute_reply.started": "2022-03-16T16:35:58.854060Z"
    },
    "papermill": {
     "duration": 0.037053,
     "end_time": "2022-03-16T16:57:09.205382",
     "exception": false,
     "start_time": "2022-03-16T16:57:09.168329",
     "status": "completed"
    },
    "tags": []
   },
   "outputs": [
    {
     "data": {
      "text/plain": [
       "0    60\n",
       "dtype: int64"
      ]
     },
     "execution_count": 7,
     "metadata": {},
     "output_type": "execute_result"
    }
   ],
   "source": [
    "prod.mode()"
   ]
  },
  {
   "cell_type": "code",
   "execution_count": 8,
   "id": "5ea10c82",
   "metadata": {
    "execution": {
     "iopub.execute_input": "2022-03-16T16:57:09.264274Z",
     "iopub.status.busy": "2022-03-16T16:57:09.263612Z",
     "iopub.status.idle": "2022-03-16T16:57:09.266259Z",
     "shell.execute_reply": "2022-03-16T16:57:09.266830Z",
     "shell.execute_reply.started": "2022-03-16T16:36:29.817203Z"
    },
    "papermill": {
     "duration": 0.035778,
     "end_time": "2022-03-16T16:57:09.266991",
     "exception": false,
     "start_time": "2022-03-16T16:57:09.231213",
     "status": "completed"
    },
    "tags": []
   },
   "outputs": [
    {
     "data": {
      "text/plain": [
       "150"
      ]
     },
     "execution_count": 8,
     "metadata": {},
     "output_type": "execute_result"
    }
   ],
   "source": [
    "prod.max()"
   ]
  },
  {
   "cell_type": "code",
   "execution_count": 9,
   "id": "a45806a4",
   "metadata": {
    "execution": {
     "iopub.execute_input": "2022-03-16T16:57:09.323080Z",
     "iopub.status.busy": "2022-03-16T16:57:09.322461Z",
     "iopub.status.idle": "2022-03-16T16:57:09.332340Z",
     "shell.execute_reply": "2022-03-16T16:57:09.332852Z",
     "shell.execute_reply.started": "2022-03-16T16:36:49.674448Z"
    },
    "papermill": {
     "duration": 0.039365,
     "end_time": "2022-03-16T16:57:09.333026",
     "exception": false,
     "start_time": "2022-03-16T16:57:09.293661",
     "status": "completed"
    },
    "tags": []
   },
   "outputs": [
    {
     "data": {
      "text/plain": [
       "count     30.000000\n",
       "mean      64.833333\n",
       "std       39.139083\n",
       "min       20.000000\n",
       "25%       32.500000\n",
       "50%       60.000000\n",
       "75%       86.250000\n",
       "max      150.000000\n",
       "Name: Productivity, dtype: float64"
      ]
     },
     "execution_count": 9,
     "metadata": {},
     "output_type": "execute_result"
    }
   ],
   "source": [
    "prod.describe()"
   ]
  },
  {
   "cell_type": "code",
   "execution_count": 10,
   "id": "1aa9cc2a",
   "metadata": {
    "execution": {
     "iopub.execute_input": "2022-03-16T16:57:09.391067Z",
     "iopub.status.busy": "2022-03-16T16:57:09.390367Z",
     "iopub.status.idle": "2022-03-16T16:57:09.415397Z",
     "shell.execute_reply": "2022-03-16T16:57:09.416034Z",
     "shell.execute_reply.started": "2022-03-16T16:37:10.429357Z"
    },
    "papermill": {
     "duration": 0.05568,
     "end_time": "2022-03-16T16:57:09.416235",
     "exception": false,
     "start_time": "2022-03-16T16:57:09.360555",
     "status": "completed"
    },
    "tags": []
   },
   "outputs": [
    {
     "data": {
      "text/html": [
       "<div>\n",
       "<style scoped>\n",
       "    .dataframe tbody tr th:only-of-type {\n",
       "        vertical-align: middle;\n",
       "    }\n",
       "\n",
       "    .dataframe tbody tr th {\n",
       "        vertical-align: top;\n",
       "    }\n",
       "\n",
       "    .dataframe thead th {\n",
       "        text-align: right;\n",
       "    }\n",
       "</style>\n",
       "<table border=\"1\" class=\"dataframe\">\n",
       "  <thead>\n",
       "    <tr style=\"text-align: right;\">\n",
       "      <th></th>\n",
       "      <th>count</th>\n",
       "      <th>mean</th>\n",
       "      <th>std</th>\n",
       "      <th>min</th>\n",
       "      <th>25%</th>\n",
       "      <th>50%</th>\n",
       "      <th>75%</th>\n",
       "      <th>max</th>\n",
       "    </tr>\n",
       "    <tr>\n",
       "      <th>Developer_Experience</th>\n",
       "      <th></th>\n",
       "      <th></th>\n",
       "      <th></th>\n",
       "      <th></th>\n",
       "      <th></th>\n",
       "      <th></th>\n",
       "      <th></th>\n",
       "      <th></th>\n",
       "    </tr>\n",
       "  </thead>\n",
       "  <tbody>\n",
       "    <tr>\n",
       "      <th>1</th>\n",
       "      <td>15.0</td>\n",
       "      <td>88.666667</td>\n",
       "      <td>39.797104</td>\n",
       "      <td>40.0</td>\n",
       "      <td>55.0</td>\n",
       "      <td>90.0</td>\n",
       "      <td>130.0</td>\n",
       "      <td>150.0</td>\n",
       "    </tr>\n",
       "    <tr>\n",
       "      <th>2</th>\n",
       "      <td>15.0</td>\n",
       "      <td>41.000000</td>\n",
       "      <td>19.291005</td>\n",
       "      <td>20.0</td>\n",
       "      <td>25.0</td>\n",
       "      <td>30.0</td>\n",
       "      <td>60.0</td>\n",
       "      <td>75.0</td>\n",
       "    </tr>\n",
       "  </tbody>\n",
       "</table>\n",
       "</div>"
      ],
      "text/plain": [
       "                      count       mean        std   min   25%   50%    75%  \\\n",
       "Developer_Experience                                                         \n",
       "1                      15.0  88.666667  39.797104  40.0  55.0  90.0  130.0   \n",
       "2                      15.0  41.000000  19.291005  20.0  25.0  30.0   60.0   \n",
       "\n",
       "                        max  \n",
       "Developer_Experience         \n",
       "1                     150.0  \n",
       "2                      75.0  "
      ]
     },
     "execution_count": 10,
     "metadata": {},
     "output_type": "execute_result"
    }
   ],
   "source": [
    "prod.groupby(mydata[\"Developer_Experience\"]).describe()"
   ]
  },
  {
   "cell_type": "code",
   "execution_count": 11,
   "id": "b9cacf73",
   "metadata": {
    "execution": {
     "iopub.execute_input": "2022-03-16T16:57:09.475173Z",
     "iopub.status.busy": "2022-03-16T16:57:09.474501Z",
     "iopub.status.idle": "2022-03-16T16:57:09.716170Z",
     "shell.execute_reply": "2022-03-16T16:57:09.716692Z",
     "shell.execute_reply.started": "2022-03-16T16:37:28.207067Z"
    },
    "papermill": {
     "duration": 0.272582,
     "end_time": "2022-03-16T16:57:09.716873",
     "exception": false,
     "start_time": "2022-03-16T16:57:09.444291",
     "status": "completed"
    },
    "tags": []
   },
   "outputs": [
    {
     "data": {
      "image/png": "[encoded data removed]",
      "text/plain": [
       "<Figure size 432x288 with 1 Axes>"
      ]
     },
     "metadata": {
      "needs_background": "light"
     },
     "output_type": "display_data"
    }
   ],
   "source": [
    "mydata.boxplot(column='Productivity', by='Developer_Experience')\n",
    "plt.title('Box Plot')\n",
    "plt.ylabel('Productivity')\n",
    "plt.show()"
   ]
  },
  {
   "cell_type": "code",
   "execution_count": 12,
   "id": "9e07e01f",
   "metadata": {
    "execution": {
     "iopub.execute_input": "2022-03-16T16:57:09.792524Z",
     "iopub.status.busy": "2022-03-16T16:57:09.785437Z",
     "iopub.status.idle": "2022-03-16T16:57:09.798456Z",
     "shell.execute_reply": "2022-03-16T16:57:09.798907Z",
     "shell.execute_reply.started": "2022-03-16T16:37:45.512406Z"
    },
    "papermill": {
     "duration": 0.053419,
     "end_time": "2022-03-16T16:57:09.799080",
     "exception": false,
     "start_time": "2022-03-16T16:57:09.745661",
     "status": "completed"
    },
    "tags": []
   },
   "outputs": [
    {
     "data": {
      "text/html": [
       "<div>\n",
       "<style scoped>\n",
       "    .dataframe tbody tr th:only-of-type {\n",
       "        vertical-align: middle;\n",
       "    }\n",
       "\n",
       "    .dataframe tbody tr th {\n",
       "        vertical-align: top;\n",
       "    }\n",
       "\n",
       "    .dataframe thead th {\n",
       "        text-align: right;\n",
       "    }\n",
       "</style>\n",
       "<table border=\"1\" class=\"dataframe\">\n",
       "  <thead>\n",
       "    <tr style=\"text-align: right;\">\n",
       "      <th></th>\n",
       "      <th>count</th>\n",
       "      <th>mean</th>\n",
       "      <th>std</th>\n",
       "      <th>min</th>\n",
       "      <th>25%</th>\n",
       "      <th>50%</th>\n",
       "      <th>75%</th>\n",
       "      <th>max</th>\n",
       "    </tr>\n",
       "    <tr>\n",
       "      <th>Code_Reuse</th>\n",
       "      <th></th>\n",
       "      <th></th>\n",
       "      <th></th>\n",
       "      <th></th>\n",
       "      <th></th>\n",
       "      <th></th>\n",
       "      <th></th>\n",
       "      <th></th>\n",
       "    </tr>\n",
       "  </thead>\n",
       "  <tbody>\n",
       "    <tr>\n",
       "      <th>1</th>\n",
       "      <td>17.0</td>\n",
       "      <td>80.882353</td>\n",
       "      <td>41.841789</td>\n",
       "      <td>30.0</td>\n",
       "      <td>50.0</td>\n",
       "      <td>60.0</td>\n",
       "      <td>130.0</td>\n",
       "      <td>150.0</td>\n",
       "    </tr>\n",
       "    <tr>\n",
       "      <th>2</th>\n",
       "      <td>13.0</td>\n",
       "      <td>43.846154</td>\n",
       "      <td>22.926863</td>\n",
       "      <td>20.0</td>\n",
       "      <td>20.0</td>\n",
       "      <td>40.0</td>\n",
       "      <td>60.0</td>\n",
       "      <td>90.0</td>\n",
       "    </tr>\n",
       "  </tbody>\n",
       "</table>\n",
       "</div>"
      ],
      "text/plain": [
       "            count       mean        std   min   25%   50%    75%    max\n",
       "Code_Reuse                                                             \n",
       "1            17.0  80.882353  41.841789  30.0  50.0  60.0  130.0  150.0\n",
       "2            13.0  43.846154  22.926863  20.0  20.0  40.0   60.0   90.0"
      ]
     },
     "execution_count": 12,
     "metadata": {},
     "output_type": "execute_result"
    }
   ],
   "source": [
    "#d. Check whether the average productivity varies with code reuse? \n",
    "prod.groupby(mydata['Code_Reuse']).describe()"
   ]
  },
  {
   "cell_type": "code",
   "execution_count": 13,
   "id": "0f0741d5",
   "metadata": {
    "execution": {
     "iopub.execute_input": "2022-03-16T16:57:09.860626Z",
     "iopub.status.busy": "2022-03-16T16:57:09.859921Z",
     "iopub.status.idle": "2022-03-16T16:57:10.052760Z",
     "shell.execute_reply": "2022-03-16T16:57:10.052170Z",
     "shell.execute_reply.started": "2022-03-16T16:42:17.360546Z"
    },
    "papermill": {
     "duration": 0.224701,
     "end_time": "2022-03-16T16:57:10.052913",
     "exception": false,
     "start_time": "2022-03-16T16:57:09.828212",
     "status": "completed"
    },
    "tags": []
   },
   "outputs": [
    {
     "data": {
      "image/png": "[encoded data removed]",
      "text/plain": [
       "<Figure size 432x288 with 1 Axes>"
      ]
     },
     "metadata": {
      "needs_background": "light"
     },
     "output_type": "display_data"
    }
   ],
   "source": [
    "mydata.boxplot(column='Productivity', by='Code_Reuse')\n",
    "plt.ylabel('Productivity')\n",
    "plt.title('Box Plot')\n",
    "plt.show()"
   ]
  },
  {
   "cell_type": "code",
   "execution_count": 14,
   "id": "77fec6b9",
   "metadata": {
    "execution": {
     "iopub.execute_input": "2022-03-16T16:57:10.117563Z",
     "iopub.status.busy": "2022-03-16T16:57:10.116568Z",
     "iopub.status.idle": "2022-03-16T16:57:10.137694Z",
     "shell.execute_reply": "2022-03-16T16:57:10.137024Z",
     "shell.execute_reply.started": "2022-03-16T16:42:35.582598Z"
    },
    "papermill": {
     "duration": 0.054036,
     "end_time": "2022-03-16T16:57:10.137833",
     "exception": false,
     "start_time": "2022-03-16T16:57:10.083797",
     "status": "completed"
    },
    "tags": []
   },
   "outputs": [
    {
     "data": {
      "text/html": [
       "<div>\n",
       "<style scoped>\n",
       "    .dataframe tbody tr th:only-of-type {\n",
       "        vertical-align: middle;\n",
       "    }\n",
       "\n",
       "    .dataframe tbody tr th {\n",
       "        vertical-align: top;\n",
       "    }\n",
       "\n",
       "    .dataframe thead th {\n",
       "        text-align: right;\n",
       "    }\n",
       "</style>\n",
       "<table border=\"1\" class=\"dataframe\">\n",
       "  <thead>\n",
       "    <tr style=\"text-align: right;\">\n",
       "      <th></th>\n",
       "      <th>count</th>\n",
       "      <th>mean</th>\n",
       "      <th>std</th>\n",
       "      <th>min</th>\n",
       "      <th>25%</th>\n",
       "      <th>50%</th>\n",
       "      <th>75%</th>\n",
       "      <th>max</th>\n",
       "    </tr>\n",
       "    <tr>\n",
       "      <th>Knowledge_Repository_Usage</th>\n",
       "      <th></th>\n",
       "      <th></th>\n",
       "      <th></th>\n",
       "      <th></th>\n",
       "      <th></th>\n",
       "      <th></th>\n",
       "      <th></th>\n",
       "      <th></th>\n",
       "    </tr>\n",
       "  </thead>\n",
       "  <tbody>\n",
       "    <tr>\n",
       "      <th>1</th>\n",
       "      <td>9.0</td>\n",
       "      <td>112.777778</td>\n",
       "      <td>31.135903</td>\n",
       "      <td>70.0</td>\n",
       "      <td>90.0</td>\n",
       "      <td>130.0</td>\n",
       "      <td>140.0</td>\n",
       "      <td>150.0</td>\n",
       "    </tr>\n",
       "    <tr>\n",
       "      <th>2</th>\n",
       "      <td>21.0</td>\n",
       "      <td>44.285714</td>\n",
       "      <td>18.860389</td>\n",
       "      <td>20.0</td>\n",
       "      <td>30.0</td>\n",
       "      <td>40.0</td>\n",
       "      <td>60.0</td>\n",
       "      <td>90.0</td>\n",
       "    </tr>\n",
       "  </tbody>\n",
       "</table>\n",
       "</div>"
      ],
      "text/plain": [
       "                            count        mean        std   min   25%    50%  \\\n",
       "Knowledge_Repository_Usage                                                    \n",
       "1                             9.0  112.777778  31.135903  70.0  90.0  130.0   \n",
       "2                            21.0   44.285714  18.860389  20.0  30.0   40.0   \n",
       "\n",
       "                              75%    max  \n",
       "Knowledge_Repository_Usage                \n",
       "1                           140.0  150.0  \n",
       "2                            60.0   90.0  "
      ]
     },
     "execution_count": 14,
     "metadata": {},
     "output_type": "execute_result"
    }
   ],
   "source": [
    "prod.groupby(mydata.Knowledge_Repository_Usage).describe()"
   ]
  },
  {
   "cell_type": "code",
   "execution_count": 15,
   "id": "35d9b31d",
   "metadata": {
    "execution": {
     "iopub.execute_input": "2022-03-16T16:57:10.203085Z",
     "iopub.status.busy": "2022-03-16T16:57:10.202415Z",
     "iopub.status.idle": "2022-03-16T16:57:10.395379Z",
     "shell.execute_reply": "2022-03-16T16:57:10.395858Z",
     "shell.execute_reply.started": "2022-03-16T16:42:57.195803Z"
    },
    "papermill": {
     "duration": 0.227768,
     "end_time": "2022-03-16T16:57:10.396039",
     "exception": false,
     "start_time": "2022-03-16T16:57:10.168271",
     "status": "completed"
    },
    "tags": []
   },
   "outputs": [
    {
     "data": {
      "image/png": "[encoded data removed]",
      "text/plain": [
       "<Figure size 432x288 with 1 Axes>"
      ]
     },
     "metadata": {
      "needs_background": "light"
     },
     "output_type": "display_data"
    }
   ],
   "source": [
    "mydata.boxplot(column='Productivity', by='Knowledge_Repository_Usage')\n",
    "plt.title('Box Plot')\n",
    "plt.ylabel('Productivity')\n",
    "plt.show()"
   ]
  },
  {
   "cell_type": "code",
   "execution_count": 16,
   "id": "91bec18f",
   "metadata": {
    "execution": {
     "iopub.execute_input": "2022-03-16T16:57:10.467799Z",
     "iopub.status.busy": "2022-03-16T16:57:10.462691Z",
     "iopub.status.idle": "2022-03-16T16:57:10.495534Z",
     "shell.execute_reply": "2022-03-16T16:57:10.496063Z",
     "shell.execute_reply.started": "2022-03-16T16:43:45.663673Z"
    },
    "papermill": {
     "duration": 0.068108,
     "end_time": "2022-03-16T16:57:10.496264",
     "exception": false,
     "start_time": "2022-03-16T16:57:10.428156",
     "status": "completed"
    },
    "tags": []
   },
   "outputs": [
    {
     "data": {
      "text/html": [
       "<div>\n",
       "<style scoped>\n",
       "    .dataframe tbody tr th:only-of-type {\n",
       "        vertical-align: middle;\n",
       "    }\n",
       "\n",
       "    .dataframe tbody tr th {\n",
       "        vertical-align: top;\n",
       "    }\n",
       "\n",
       "    .dataframe thead th {\n",
       "        text-align: right;\n",
       "    }\n",
       "</style>\n",
       "<table border=\"1\" class=\"dataframe\">\n",
       "  <thead>\n",
       "    <tr style=\"text-align: right;\">\n",
       "      <th></th>\n",
       "      <th></th>\n",
       "      <th>count</th>\n",
       "      <th>mean</th>\n",
       "      <th>std</th>\n",
       "      <th>min</th>\n",
       "      <th>25%</th>\n",
       "      <th>50%</th>\n",
       "      <th>75%</th>\n",
       "      <th>max</th>\n",
       "    </tr>\n",
       "    <tr>\n",
       "      <th>Developer_Experience</th>\n",
       "      <th>Code_Reuse</th>\n",
       "      <th></th>\n",
       "      <th></th>\n",
       "      <th></th>\n",
       "      <th></th>\n",
       "      <th></th>\n",
       "      <th></th>\n",
       "      <th></th>\n",
       "      <th></th>\n",
       "    </tr>\n",
       "  </thead>\n",
       "  <tbody>\n",
       "    <tr>\n",
       "      <th rowspan=\"2\" valign=\"top\">1</th>\n",
       "      <th>1</th>\n",
       "      <td>11.0</td>\n",
       "      <td>96.363636</td>\n",
       "      <td>43.421821</td>\n",
       "      <td>40.0</td>\n",
       "      <td>55.0</td>\n",
       "      <td>90.0</td>\n",
       "      <td>135.0</td>\n",
       "      <td>150.0</td>\n",
       "    </tr>\n",
       "    <tr>\n",
       "      <th>2</th>\n",
       "      <td>4.0</td>\n",
       "      <td>67.500000</td>\n",
       "      <td>17.078251</td>\n",
       "      <td>50.0</td>\n",
       "      <td>57.5</td>\n",
       "      <td>65.0</td>\n",
       "      <td>75.0</td>\n",
       "      <td>90.0</td>\n",
       "    </tr>\n",
       "    <tr>\n",
       "      <th rowspan=\"2\" valign=\"top\">2</th>\n",
       "      <th>1</th>\n",
       "      <td>6.0</td>\n",
       "      <td>52.500000</td>\n",
       "      <td>18.371173</td>\n",
       "      <td>30.0</td>\n",
       "      <td>37.5</td>\n",
       "      <td>60.0</td>\n",
       "      <td>60.0</td>\n",
       "      <td>75.0</td>\n",
       "    </tr>\n",
       "    <tr>\n",
       "      <th>2</th>\n",
       "      <td>9.0</td>\n",
       "      <td>33.333333</td>\n",
       "      <td>16.583124</td>\n",
       "      <td>20.0</td>\n",
       "      <td>20.0</td>\n",
       "      <td>30.0</td>\n",
       "      <td>40.0</td>\n",
       "      <td>60.0</td>\n",
       "    </tr>\n",
       "  </tbody>\n",
       "</table>\n",
       "</div>"
      ],
      "text/plain": [
       "                                 count       mean        std   min   25%  \\\n",
       "Developer_Experience Code_Reuse                                            \n",
       "1                    1            11.0  96.363636  43.421821  40.0  55.0   \n",
       "                     2             4.0  67.500000  17.078251  50.0  57.5   \n",
       "2                    1             6.0  52.500000  18.371173  30.0  37.5   \n",
       "                     2             9.0  33.333333  16.583124  20.0  20.0   \n",
       "\n",
       "                                  50%    75%    max  \n",
       "Developer_Experience Code_Reuse                      \n",
       "1                    1           90.0  135.0  150.0  \n",
       "                     2           65.0   75.0   90.0  \n",
       "2                    1           60.0   60.0   75.0  \n",
       "                     2           30.0   40.0   60.0  "
      ]
     },
     "execution_count": 16,
     "metadata": {},
     "output_type": "execute_result"
    }
   ],
   "source": [
    "prod.groupby([mydata.Developer_Experience, mydata.Code_Reuse]).describe()\n"
   ]
  },
  {
   "cell_type": "code",
   "execution_count": 17,
   "id": "1359bc86",
   "metadata": {
    "execution": {
     "iopub.execute_input": "2022-03-16T16:57:10.584887Z",
     "iopub.status.busy": "2022-03-16T16:57:10.564945Z",
     "iopub.status.idle": "2022-03-16T16:57:10.793027Z",
     "shell.execute_reply": "2022-03-16T16:57:10.793553Z",
     "shell.execute_reply.started": "2022-03-16T16:43:35.591601Z"
    },
    "papermill": {
     "duration": 0.264201,
     "end_time": "2022-03-16T16:57:10.793741",
     "exception": false,
     "start_time": "2022-03-16T16:57:10.529540",
     "status": "completed"
    },
    "tags": []
   },
   "outputs": [
    {
     "data": {
      "image/png": "[encoded data removed]",
      "text/plain": [
       "<Figure size 432x288 with 1 Axes>"
      ]
     },
     "metadata": {
      "needs_background": "light"
     },
     "output_type": "display_data"
    }
   ],
   "source": [
    "mydata.boxplot(column='Productivity', by=['Developer_Experience','Code_Reuse'])\n",
    "plt.title('Box Plot')\n",
    "plt.ylabel('Productivity')\n",
    "plt.show()"
   ]
  },
  {
   "cell_type": "code",
   "execution_count": 18,
   "id": "15bad190",
   "metadata": {
    "execution": {
     "iopub.execute_input": "2022-03-16T16:57:10.863841Z",
     "iopub.status.busy": "2022-03-16T16:57:10.863057Z",
     "iopub.status.idle": "2022-03-16T16:57:10.905512Z",
     "shell.execute_reply": "2022-03-16T16:57:10.904927Z",
     "shell.execute_reply.started": "2022-03-16T16:44:10.857239Z"
    },
    "papermill": {
     "duration": 0.078414,
     "end_time": "2022-03-16T16:57:10.905674",
     "exception": false,
     "start_time": "2022-03-16T16:57:10.827260",
     "status": "completed"
    },
    "tags": []
   },
   "outputs": [
    {
     "data": {
      "text/html": [
       "<div>\n",
       "<style scoped>\n",
       "    .dataframe tbody tr th:only-of-type {\n",
       "        vertical-align: middle;\n",
       "    }\n",
       "\n",
       "    .dataframe tbody tr th {\n",
       "        vertical-align: top;\n",
       "    }\n",
       "\n",
       "    .dataframe thead th {\n",
       "        text-align: right;\n",
       "    }\n",
       "</style>\n",
       "<table border=\"1\" class=\"dataframe\">\n",
       "  <thead>\n",
       "    <tr style=\"text-align: right;\">\n",
       "      <th></th>\n",
       "      <th></th>\n",
       "      <th></th>\n",
       "      <th>count</th>\n",
       "      <th>mean</th>\n",
       "      <th>std</th>\n",
       "      <th>min</th>\n",
       "      <th>25%</th>\n",
       "      <th>50%</th>\n",
       "      <th>75%</th>\n",
       "      <th>max</th>\n",
       "    </tr>\n",
       "    <tr>\n",
       "      <th>Developer_Experience</th>\n",
       "      <th>Code_Reuse</th>\n",
       "      <th>Knowledge_Repository_Usage</th>\n",
       "      <th></th>\n",
       "      <th></th>\n",
       "      <th></th>\n",
       "      <th></th>\n",
       "      <th></th>\n",
       "      <th></th>\n",
       "      <th></th>\n",
       "      <th></th>\n",
       "    </tr>\n",
       "  </thead>\n",
       "  <tbody>\n",
       "    <tr>\n",
       "      <th rowspan=\"4\" valign=\"top\">1</th>\n",
       "      <th rowspan=\"2\" valign=\"top\">1</th>\n",
       "      <th>1</th>\n",
       "      <td>6.0</td>\n",
       "      <td>130.000000</td>\n",
       "      <td>20.976177</td>\n",
       "      <td>90.0</td>\n",
       "      <td>130.0</td>\n",
       "      <td>135.0</td>\n",
       "      <td>140.0</td>\n",
       "      <td>150.0</td>\n",
       "    </tr>\n",
       "    <tr>\n",
       "      <th>2</th>\n",
       "      <td>5.0</td>\n",
       "      <td>56.000000</td>\n",
       "      <td>20.736441</td>\n",
       "      <td>40.0</td>\n",
       "      <td>40.0</td>\n",
       "      <td>50.0</td>\n",
       "      <td>60.0</td>\n",
       "      <td>90.0</td>\n",
       "    </tr>\n",
       "    <tr>\n",
       "      <th rowspan=\"2\" valign=\"top\">2</th>\n",
       "      <th>1</th>\n",
       "      <td>2.0</td>\n",
       "      <td>80.000000</td>\n",
       "      <td>14.142136</td>\n",
       "      <td>70.0</td>\n",
       "      <td>75.0</td>\n",
       "      <td>80.0</td>\n",
       "      <td>85.0</td>\n",
       "      <td>90.0</td>\n",
       "    </tr>\n",
       "    <tr>\n",
       "      <th>2</th>\n",
       "      <td>2.0</td>\n",
       "      <td>55.000000</td>\n",
       "      <td>7.071068</td>\n",
       "      <td>50.0</td>\n",
       "      <td>52.5</td>\n",
       "      <td>55.0</td>\n",
       "      <td>57.5</td>\n",
       "      <td>60.0</td>\n",
       "    </tr>\n",
       "    <tr>\n",
       "      <th rowspan=\"3\" valign=\"top\">2</th>\n",
       "      <th rowspan=\"2\" valign=\"top\">1</th>\n",
       "      <th>1</th>\n",
       "      <td>1.0</td>\n",
       "      <td>75.000000</td>\n",
       "      <td>NaN</td>\n",
       "      <td>75.0</td>\n",
       "      <td>75.0</td>\n",
       "      <td>75.0</td>\n",
       "      <td>75.0</td>\n",
       "      <td>75.0</td>\n",
       "    </tr>\n",
       "    <tr>\n",
       "      <th>2</th>\n",
       "      <td>5.0</td>\n",
       "      <td>48.000000</td>\n",
       "      <td>16.431677</td>\n",
       "      <td>30.0</td>\n",
       "      <td>30.0</td>\n",
       "      <td>60.0</td>\n",
       "      <td>60.0</td>\n",
       "      <td>60.0</td>\n",
       "    </tr>\n",
       "    <tr>\n",
       "      <th>2</th>\n",
       "      <th>2</th>\n",
       "      <td>9.0</td>\n",
       "      <td>33.333333</td>\n",
       "      <td>16.583124</td>\n",
       "      <td>20.0</td>\n",
       "      <td>20.0</td>\n",
       "      <td>30.0</td>\n",
       "      <td>40.0</td>\n",
       "      <td>60.0</td>\n",
       "    </tr>\n",
       "  </tbody>\n",
       "</table>\n",
       "</div>"
      ],
      "text/plain": [
       "                                                            count        mean  \\\n",
       "Developer_Experience Code_Reuse Knowledge_Repository_Usage                      \n",
       "1                    1          1                             6.0  130.000000   \n",
       "                                2                             5.0   56.000000   \n",
       "                     2          1                             2.0   80.000000   \n",
       "                                2                             2.0   55.000000   \n",
       "2                    1          1                             1.0   75.000000   \n",
       "                                2                             5.0   48.000000   \n",
       "                     2          2                             9.0   33.333333   \n",
       "\n",
       "                                                                  std   min  \\\n",
       "Developer_Experience Code_Reuse Knowledge_Repository_Usage                    \n",
       "1                    1          1                           20.976177  90.0   \n",
       "                                2                           20.736441  40.0   \n",
       "                     2          1                           14.142136  70.0   \n",
       "                                2                            7.071068  50.0   \n",
       "2                    1          1                                 NaN  75.0   \n",
       "                                2                           16.431677  30.0   \n",
       "                     2          2                           16.583124  20.0   \n",
       "\n",
       "                                                              25%    50%  \\\n",
       "Developer_Experience Code_Reuse Knowledge_Repository_Usage                 \n",
       "1                    1          1                           130.0  135.0   \n",
       "                                2                            40.0   50.0   \n",
       "                     2          1                            75.0   80.0   \n",
       "                                2                            52.5   55.0   \n",
       "2                    1          1                            75.0   75.0   \n",
       "                                2                            30.0   60.0   \n",
       "                     2          2                            20.0   30.0   \n",
       "\n",
       "                                                              75%    max  \n",
       "Developer_Experience Code_Reuse Knowledge_Repository_Usage                \n",
       "1                    1          1                           140.0  150.0  \n",
       "                                2                            60.0   90.0  \n",
       "                     2          1                            85.0   90.0  \n",
       "                                2                            57.5   60.0  \n",
       "2                    1          1                            75.0   75.0  \n",
       "                                2                            60.0   60.0  \n",
       "                     2          2                            40.0   60.0  "
      ]
     },
     "execution_count": 18,
     "metadata": {},
     "output_type": "execute_result"
    }
   ],
   "source": [
    "prod.groupby([mydata.Developer_Experience, mydata.Code_Reuse, mydata.Knowledge_Repository_Usage]).describe()"
   ]
  },
  {
   "cell_type": "code",
   "execution_count": 19,
   "id": "6e41c2c5",
   "metadata": {
    "execution": {
     "iopub.execute_input": "2022-03-16T16:57:10.994845Z",
     "iopub.status.busy": "2022-03-16T16:57:10.993337Z",
     "iopub.status.idle": "2022-03-16T16:57:11.257198Z",
     "shell.execute_reply": "2022-03-16T16:57:11.256547Z",
     "shell.execute_reply.started": "2022-03-16T16:44:27.901187Z"
    },
    "papermill": {
     "duration": 0.317539,
     "end_time": "2022-03-16T16:57:11.257352",
     "exception": false,
     "start_time": "2022-03-16T16:57:10.939813",
     "status": "completed"
    },
    "tags": []
   },
   "outputs": [
    {
     "data": {
      "image/png": "[encoded data removed]",
      "text/plain": [
       "<Figure size 432x288 with 1 Axes>"
      ]
     },
     "metadata": {
      "needs_background": "light"
     },
     "output_type": "display_data"
    }
   ],
   "source": [
    "mydata.boxplot(column='Productivity', by=['Developer_Experience','Code_Reuse','Knowledge_Repository_Usage'])\n",
    "plt.title('Box Plot')\n",
    "plt.ylabel('Productivity')\n",
    "plt.show()"
   ]
  },
  {
   "cell_type": "code",
   "execution_count": null,
   "id": "04d315ee",
   "metadata": {
    "papermill": {
     "duration": 0.034315,
     "end_time": "2022-03-16T16:57:11.326966",
     "exception": false,
     "start_time": "2022-03-16T16:57:11.292651",
     "status": "completed"
    },
    "tags": []
   },
   "outputs": [],
   "source": []
  }
 ],
 "metadata": {
  "kernelspec": {
   "display_name": "Python 3",
   "language": "python",
   "name": "python3"
  },
  "language_info": {
   "codemirror_mode": {
    "name": "ipython",
    "version": 3
   },
   "file_extension": ".py",
   "mimetype": "text/x-python",
   "name": "python",
   "nbconvert_exporter": "python",
   "pygments_lexer": "ipython3",
   "version": "3.7.12"
  },
  "papermill": {
   "default_parameters": {},
   "duration": 26.039478,
   "end_time": "2022-03-16T16:57:12.072256",
   "environment_variables": {},
   "exception": null,
   "input_path": "__notebook__.ipynb",
   "output_path": "__notebook__.ipynb",
   "parameters": {},
   "start_time": "2022-03-16T16:56:46.032778",
   "version": "2.3.3"
  }
 },
 "nbformat": 4,
 "nbformat_minor": 5
}
