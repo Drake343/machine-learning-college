{
 "cells": [
  {
   "cell_type": "code",
   "execution_count": 1,
   "id": "5f863757",
   "metadata": {
    "_cell_guid": "b1076dfc-b9ad-4769-8c92-a6c4dae69d19",
    "_uuid": "8f2839f25d086af736a60e9eeb907d3b93b6e0e5",
    "execution": {
     "iopub.execute_input": "2022-04-21T07:10:18.153294Z",
     "iopub.status.busy": "2022-04-21T07:10:18.152768Z",
     "iopub.status.idle": "2022-04-21T07:10:19.447453Z",
     "shell.execute_reply": "2022-04-21T07:10:19.446120Z"
    },
    "papermill": {
     "duration": 1.318662,
     "end_time": "2022-04-21T07:10:19.450299",
     "exception": false,
     "start_time": "2022-04-21T07:10:18.131637",
     "status": "completed"
    },
    "tags": []
   },
   "outputs": [],
   "source": [
    "\n",
    "import numpy as np # linear algebra\n",
    "import pandas as pd # data processing, CSV file I/O (e.g. pd.read_csv)\n",
    "import matplotlib.pyplot as plt\n",
    "from sklearn.datasets import load_digits"
   ]
  },
  {
   "cell_type": "code",
   "execution_count": 2,
   "id": "67b8f91e",
   "metadata": {
    "execution": {
     "iopub.execute_input": "2022-04-21T07:10:19.487202Z",
     "iopub.status.busy": "2022-04-21T07:10:19.486906Z",
     "iopub.status.idle": "2022-04-21T07:10:19.596593Z",
     "shell.execute_reply": "2022-04-21T07:10:19.595661Z"
    },
    "papermill": {
     "duration": 0.130997,
     "end_time": "2022-04-21T07:10:19.599135",
     "exception": false,
     "start_time": "2022-04-21T07:10:19.468138",
     "status": "completed"
    },
    "tags": []
   },
   "outputs": [
    {
     "data": {
      "text/plain": [
       "['DESCR', 'data', 'feature_names', 'frame', 'images', 'target', 'target_names']"
      ]
     },
     "execution_count": 2,
     "metadata": {},
     "output_type": "execute_result"
    }
   ],
   "source": [
    "digits=load_digits()\n",
    "dir(digits)"
   ]
  },
  {
   "cell_type": "code",
   "execution_count": 3,
   "id": "253d78d7",
   "metadata": {
    "execution": {
     "iopub.execute_input": "2022-04-21T07:10:19.637773Z",
     "iopub.status.busy": "2022-04-21T07:10:19.637484Z",
     "iopub.status.idle": "2022-04-21T07:10:19.644120Z",
     "shell.execute_reply": "2022-04-21T07:10:19.643468Z"
    },
    "papermill": {
     "duration": 0.028051,
     "end_time": "2022-04-21T07:10:19.645871",
     "exception": false,
     "start_time": "2022-04-21T07:10:19.617820",
     "status": "completed"
    },
    "tags": []
   },
   "outputs": [
    {
     "data": {
      "text/plain": [
       "array([ 0.,  0.,  5., 13.,  9.,  1.,  0.,  0.,  0.,  0., 13., 15., 10.,\n",
       "       15.,  5.,  0.,  0.,  3., 15.,  2.,  0., 11.,  8.,  0.,  0.,  4.,\n",
       "       12.,  0.,  0.,  8.,  8.,  0.,  0.,  5.,  8.,  0.,  0.,  9.,  8.,\n",
       "        0.,  0.,  4., 11.,  0.,  1., 12.,  7.,  0.,  0.,  2., 14.,  5.,\n",
       "       10., 12.,  0.,  0.,  0.,  0.,  6., 13., 10.,  0.,  0.,  0.])"
      ]
     },
     "execution_count": 3,
     "metadata": {},
     "output_type": "execute_result"
    }
   ],
   "source": [
    "digits.data[0]"
   ]
  },
  {
   "cell_type": "code",
   "execution_count": 4,
   "id": "7dc3d2af",
   "metadata": {
    "execution": {
     "iopub.execute_input": "2022-04-21T07:10:19.688290Z",
     "iopub.status.busy": "2022-04-21T07:10:19.687404Z",
     "iopub.status.idle": "2022-04-21T07:10:21.324915Z",
     "shell.execute_reply": "2022-04-21T07:10:21.323639Z"
    },
    "papermill": {
     "duration": 1.664255,
     "end_time": "2022-04-21T07:10:21.329828",
     "exception": false,
     "start_time": "2022-04-21T07:10:19.665573",
     "status": "completed"
    },
    "tags": []
   },
   "outputs": [
    {
     "data": {
      "image/png": "[encoded data removed]",
      "text/plain": [
       "<Figure size 288x288 with 1 Axes>"
      ]
     },
     "metadata": {
      "needs_background": "light"
     },
     "output_type": "display_data"
    },
    {
     "data": {
      "image/png": "[encoded data removed]",
      "text/plain": [
       "<Figure size 288x288 with 1 Axes>"
      ]
     },
     "metadata": {
      "needs_background": "light"
     },
     "output_type": "display_data"
    },
    {
     "data": {
      "image/png": "[encoded data removed]",
      "text/plain": [
       "<Figure size 288x288 with 1 Axes>"
      ]
     },
     "metadata": {
      "needs_background": "light"
     },
     "output_type": "display_data"
    },
    {
     "data": {
      "image/png": "[encoded data removed]",
      "text/plain": [
       "<Figure size 288x288 with 1 Axes>"
      ]
     },
     "metadata": {
      "needs_background": "light"
     },
     "output_type": "display_data"
    },
    {
     "data": {
      "image/png": "[encoded data removed]",
      "text/plain": [
       "<Figure size 288x288 with 1 Axes>"
      ]
     },
     "metadata": {
      "needs_background": "light"
     },
     "output_type": "display_data"
    }
   ],
   "source": [
    "plt.gray\n",
    "for i in range(5):\n",
    "    plt.matshow(digits.images[i])"
   ]
  },
  {
   "cell_type": "code",
   "execution_count": 5,
   "id": "a44a6f85",
   "metadata": {
    "execution": {
     "iopub.execute_input": "2022-04-21T07:10:21.399035Z",
     "iopub.status.busy": "2022-04-21T07:10:21.398219Z",
     "iopub.status.idle": "2022-04-21T07:10:21.464377Z",
     "shell.execute_reply": "2022-04-21T07:10:21.463611Z"
    },
    "papermill": {
     "duration": 0.094098,
     "end_time": "2022-04-21T07:10:21.466757",
     "exception": false,
     "start_time": "2022-04-21T07:10:21.372659",
     "status": "completed"
    },
    "tags": []
   },
   "outputs": [],
   "source": [
    "from sklearn.model_selection import train_test_split"
   ]
  },
  {
   "cell_type": "code",
   "execution_count": 6,
   "id": "6a015fac",
   "metadata": {
    "execution": {
     "iopub.execute_input": "2022-04-21T07:10:21.513269Z",
     "iopub.status.busy": "2022-04-21T07:10:21.512712Z",
     "iopub.status.idle": "2022-04-21T07:10:21.517682Z",
     "shell.execute_reply": "2022-04-21T07:10:21.516837Z"
    },
    "papermill": {
     "duration": 0.03115,
     "end_time": "2022-04-21T07:10:21.520020",
     "exception": false,
     "start_time": "2022-04-21T07:10:21.488870",
     "status": "completed"
    },
    "tags": []
   },
   "outputs": [],
   "source": [
    "X_train,X_test,y_train,y_test=train_test_split(digits.data,digits.target,test_size=0.2)"
   ]
  },
  {
   "cell_type": "code",
   "execution_count": 7,
   "id": "369560fc",
   "metadata": {
    "execution": {
     "iopub.execute_input": "2022-04-21T07:10:21.565781Z",
     "iopub.status.busy": "2022-04-21T07:10:21.564884Z",
     "iopub.status.idle": "2022-04-21T07:10:21.572882Z",
     "shell.execute_reply": "2022-04-21T07:10:21.572137Z"
    },
    "papermill": {
     "duration": 0.033241,
     "end_time": "2022-04-21T07:10:21.575091",
     "exception": false,
     "start_time": "2022-04-21T07:10:21.541850",
     "status": "completed"
    },
    "tags": []
   },
   "outputs": [
    {
     "data": {
      "text/plain": [
       "1437"
      ]
     },
     "execution_count": 7,
     "metadata": {},
     "output_type": "execute_result"
    }
   ],
   "source": [
    "len(X_train)"
   ]
  },
  {
   "cell_type": "markdown",
   "id": "7667cf99",
   "metadata": {
    "execution": {
     "iopub.execute_input": "2022-04-21T06:01:13.032125Z",
     "iopub.status.busy": "2022-04-21T06:01:13.031717Z",
     "iopub.status.idle": "2022-04-21T06:01:13.039595Z",
     "shell.execute_reply": "2022-04-21T06:01:13.038530Z",
     "shell.execute_reply.started": "2022-04-21T06:01:13.032080Z"
    },
    "papermill": {
     "duration": 0.021802,
     "end_time": "2022-04-21T07:10:21.621148",
     "exception": false,
     "start_time": "2022-04-21T07:10:21.599346",
     "status": "completed"
    },
    "tags": []
   },
   "source": [
    "len(X_test)"
   ]
  },
  {
   "cell_type": "code",
   "execution_count": 8,
   "id": "daaa40e5",
   "metadata": {
    "execution": {
     "iopub.execute_input": "2022-04-21T07:10:21.668998Z",
     "iopub.status.busy": "2022-04-21T07:10:21.668673Z",
     "iopub.status.idle": "2022-04-21T07:10:21.761768Z",
     "shell.execute_reply": "2022-04-21T07:10:21.760440Z"
    },
    "papermill": {
     "duration": 0.1215,
     "end_time": "2022-04-21T07:10:21.764779",
     "exception": false,
     "start_time": "2022-04-21T07:10:21.643279",
     "status": "completed"
    },
    "tags": []
   },
   "outputs": [],
   "source": [
    "from sklearn.linear_model import LogisticRegression\n",
    "model=LogisticRegression()"
   ]
  },
  {
   "cell_type": "code",
   "execution_count": 9,
   "id": "8d954175",
   "metadata": {
    "execution": {
     "iopub.execute_input": "2022-04-21T07:10:21.812212Z",
     "iopub.status.busy": "2022-04-21T07:10:21.811641Z",
     "iopub.status.idle": "2022-04-21T07:10:22.115532Z",
     "shell.execute_reply": "2022-04-21T07:10:22.114451Z"
    },
    "papermill": {
     "duration": 0.331628,
     "end_time": "2022-04-21T07:10:22.119260",
     "exception": false,
     "start_time": "2022-04-21T07:10:21.787632",
     "status": "completed"
    },
    "tags": []
   },
   "outputs": [
    {
     "name": "stderr",
     "output_type": "stream",
     "text": [
      "/opt/conda/lib/python3.7/site-packages/sklearn/linear_model/_logistic.py:818: ConvergenceWarning: lbfgs failed to converge (status=1):\n",
      "STOP: TOTAL NO. of ITERATIONS REACHED LIMIT.\n",
      "\n",
      "Increase the number of iterations (max_iter) or scale the data as shown in:\n",
      "    https://scikit-learn.org/stable/modules/preprocessing.html\n",
      "Please also refer to the documentation for alternative solver options:\n",
      "    https://scikit-learn.org/stable/modules/linear_model.html#logistic-regression\n",
      "  extra_warning_msg=_LOGISTIC_SOLVER_CONVERGENCE_MSG,\n"
     ]
    },
    {
     "data": {
      "text/plain": [
       "LogisticRegression()"
      ]
     },
     "execution_count": 9,
     "metadata": {},
     "output_type": "execute_result"
    }
   ],
   "source": [
    "model.fit(X_train,y_train)"
   ]
  },
  {
   "cell_type": "code",
   "execution_count": 10,
   "id": "0da29950",
   "metadata": {
    "execution": {
     "iopub.execute_input": "2022-04-21T07:10:22.208636Z",
     "iopub.status.busy": "2022-04-21T07:10:22.208091Z",
     "iopub.status.idle": "2022-04-21T07:10:22.218839Z",
     "shell.execute_reply": "2022-04-21T07:10:22.217713Z"
    },
    "papermill": {
     "duration": 0.056852,
     "end_time": "2022-04-21T07:10:22.221054",
     "exception": false,
     "start_time": "2022-04-21T07:10:22.164202",
     "status": "completed"
    },
    "tags": []
   },
   "outputs": [
    {
     "data": {
      "text/plain": [
       "0.9805555555555555"
      ]
     },
     "execution_count": 10,
     "metadata": {},
     "output_type": "execute_result"
    }
   ],
   "source": [
    "model.score(X_test,y_test)"
   ]
  },
  {
   "cell_type": "code",
   "execution_count": 11,
   "id": "11b5943e",
   "metadata": {
    "execution": {
     "iopub.execute_input": "2022-04-21T07:10:22.270928Z",
     "iopub.status.busy": "2022-04-21T07:10:22.270667Z",
     "iopub.status.idle": "2022-04-21T07:10:22.571392Z",
     "shell.execute_reply": "2022-04-21T07:10:22.570531Z"
    },
    "papermill": {
     "duration": 0.328225,
     "end_time": "2022-04-21T07:10:22.574445",
     "exception": false,
     "start_time": "2022-04-21T07:10:22.246220",
     "status": "completed"
    },
    "tags": []
   },
   "outputs": [
    {
     "data": {
      "text/plain": [
       "<matplotlib.image.AxesImage at 0x7f8b410f0bd0>"
      ]
     },
     "execution_count": 11,
     "metadata": {},
     "output_type": "execute_result"
    },
    {
     "data": {
      "image/png": "[encoded data removed]",
      "text/plain": [
       "<Figure size 288x288 with 1 Axes>"
      ]
     },
     "metadata": {
      "needs_background": "light"
     },
     "output_type": "display_data"
    }
   ],
   "source": [
    "plt.matshow(digits.images[67])"
   ]
  },
  {
   "cell_type": "code",
   "execution_count": 12,
   "id": "55c4419a",
   "metadata": {
    "execution": {
     "iopub.execute_input": "2022-04-21T07:10:22.649340Z",
     "iopub.status.busy": "2022-04-21T07:10:22.648431Z",
     "iopub.status.idle": "2022-04-21T07:10:22.654974Z",
     "shell.execute_reply": "2022-04-21T07:10:22.654069Z"
    },
    "papermill": {
     "duration": 0.037316,
     "end_time": "2022-04-21T07:10:22.657243",
     "exception": false,
     "start_time": "2022-04-21T07:10:22.619927",
     "status": "completed"
    },
    "tags": []
   },
   "outputs": [
    {
     "data": {
      "text/plain": [
       "6"
      ]
     },
     "execution_count": 12,
     "metadata": {},
     "output_type": "execute_result"
    }
   ],
   "source": [
    "digits.target[67]"
   ]
  },
  {
   "cell_type": "code",
   "execution_count": 13,
   "id": "2de3f87d",
   "metadata": {
    "execution": {
     "iopub.execute_input": "2022-04-21T07:10:22.708397Z",
     "iopub.status.busy": "2022-04-21T07:10:22.708098Z",
     "iopub.status.idle": "2022-04-21T07:10:22.714736Z",
     "shell.execute_reply": "2022-04-21T07:10:22.713907Z"
    },
    "papermill": {
     "duration": 0.034875,
     "end_time": "2022-04-21T07:10:22.717173",
     "exception": false,
     "start_time": "2022-04-21T07:10:22.682298",
     "status": "completed"
    },
    "tags": []
   },
   "outputs": [
    {
     "data": {
      "text/plain": [
       "array([6])"
      ]
     },
     "execution_count": 13,
     "metadata": {},
     "output_type": "execute_result"
    }
   ],
   "source": [
    "model.predict([digits.data[67]])"
   ]
  },
  {
   "cell_type": "code",
   "execution_count": 14,
   "id": "812f7542",
   "metadata": {
    "execution": {
     "iopub.execute_input": "2022-04-21T07:10:22.770940Z",
     "iopub.status.busy": "2022-04-21T07:10:22.770111Z",
     "iopub.status.idle": "2022-04-21T07:10:22.777000Z",
     "shell.execute_reply": "2022-04-21T07:10:22.776401Z"
    },
    "papermill": {
     "duration": 0.035081,
     "end_time": "2022-04-21T07:10:22.778705",
     "exception": false,
     "start_time": "2022-04-21T07:10:22.743624",
     "status": "completed"
    },
    "tags": []
   },
   "outputs": [
    {
     "data": {
      "text/plain": [
       "array([0, 1, 2, 3, 4])"
      ]
     },
     "execution_count": 14,
     "metadata": {},
     "output_type": "execute_result"
    }
   ],
   "source": [
    "model.predict(digits.data[0:5])"
   ]
  },
  {
   "cell_type": "code",
   "execution_count": 15,
   "id": "c6c1099e",
   "metadata": {
    "execution": {
     "iopub.execute_input": "2022-04-21T07:10:22.833892Z",
     "iopub.status.busy": "2022-04-21T07:10:22.833183Z",
     "iopub.status.idle": "2022-04-21T07:10:22.843642Z",
     "shell.execute_reply": "2022-04-21T07:10:22.842743Z"
    },
    "papermill": {
     "duration": 0.041238,
     "end_time": "2022-04-21T07:10:22.846048",
     "exception": false,
     "start_time": "2022-04-21T07:10:22.804810",
     "status": "completed"
    },
    "tags": []
   },
   "outputs": [
    {
     "data": {
      "text/plain": [
       "array([[34,  0,  0,  0,  0,  1,  0,  0,  0,  0],\n",
       "       [ 0, 27,  0,  0,  1,  0,  0,  0,  0,  0],\n",
       "       [ 0,  1, 36,  0,  0,  0,  0,  0,  0,  0],\n",
       "       [ 0,  0,  0, 36,  0,  0,  0,  0,  0,  0],\n",
       "       [ 0,  1,  0,  0, 38,  0,  0,  0,  0,  0],\n",
       "       [ 0,  0,  0,  0,  0, 35,  0,  0,  0,  1],\n",
       "       [ 0,  0,  0,  0,  0,  0, 36,  0,  0,  0],\n",
       "       [ 0,  0,  0,  0,  1,  0,  0, 34,  0,  0],\n",
       "       [ 0,  0,  0,  0,  0,  1,  0,  0, 34,  0],\n",
       "       [ 0,  0,  0,  0,  0,  0,  0,  0,  0, 43]])"
      ]
     },
     "execution_count": 15,
     "metadata": {},
     "output_type": "execute_result"
    }
   ],
   "source": [
    "y_predicted=model.predict(X_test)\n",
    "from sklearn.metrics import confusion_matrix\n",
    "cm=confusion_matrix(y_test,y_predicted)\n",
    "cm"
   ]
  },
  {
   "cell_type": "code",
   "execution_count": 16,
   "id": "d8644164",
   "metadata": {
    "execution": {
     "iopub.execute_input": "2022-04-21T07:10:22.900133Z",
     "iopub.status.busy": "2022-04-21T07:10:22.899821Z",
     "iopub.status.idle": "2022-04-21T07:10:23.917528Z",
     "shell.execute_reply": "2022-04-21T07:10:23.916904Z"
    },
    "papermill": {
     "duration": 1.047252,
     "end_time": "2022-04-21T07:10:23.919774",
     "exception": false,
     "start_time": "2022-04-21T07:10:22.872522",
     "status": "completed"
    },
    "tags": []
   },
   "outputs": [
    {
     "data": {
      "text/plain": [
       "Text(69.0, 0.5, 'Truth')"
      ]
     },
     "execution_count": 16,
     "metadata": {},
     "output_type": "execute_result"
    },
    {
     "data": {
      "image/png": "[encoded data removed]",
      "text/plain": [
       "<Figure size 720x504 with 2 Axes>"
      ]
     },
     "metadata": {
      "needs_background": "light"
     },
     "output_type": "display_data"
    }
   ],
   "source": [
    "import seaborn as sn\n",
    "plt.figure(figsize=(10,7))\n",
    "sn.heatmap(cm,annot=True)\n",
    "plt.xlabel('Predicted')\n",
    "plt.ylabel('Truth')"
   ]
  }
 ],
 "metadata": {
  "kernelspec": {
   "display_name": "Python 3",
   "language": "python",
   "name": "python3"
  },
  "language_info": {
   "codemirror_mode": {
    "name": "ipython",
    "version": 3
   },
   "file_extension": ".py",
   "mimetype": "text/x-python",
   "name": "python",
   "nbconvert_exporter": "python",
   "pygments_lexer": "ipython3",
   "version": "3.7.12"
  },
  "papermill": {
   "default_parameters": {},
   "duration": 16.558175,
   "end_time": "2022-04-21T07:10:24.771881",
   "environment_variables": {},
   "exception": null,
   "input_path": "__notebook__.ipynb",
   "output_path": "__notebook__.ipynb",
   "parameters": {},
   "start_time": "2022-04-21T07:10:08.213706",
   "version": "2.3.4"
  }
 },
 "nbformat": 4,
 "nbformat_minor": 5
}
